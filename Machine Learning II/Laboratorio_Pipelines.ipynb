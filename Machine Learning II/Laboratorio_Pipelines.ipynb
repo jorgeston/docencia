{
 "cells": [
  {
   "cell_type": "markdown",
   "id": "ce6ad666-c45c-4e9f-ab29-16e7294cbaf1",
   "metadata": {},
   "source": [
    "# Trabajando con pipelines\n",
    "\n",
    "El `Pipeline` de Scikit-Learn es una herramienta que simplifica el proceso de construcción y evaluación de modelos de aprendizaje automático, al permitir que múltiples pasos del proceso se agrupen en una sola entidad. Aquí están algunas de sus ventajas:\n",
    "\n",
    "1. **Simplicidad y Conveniencia:** \n",
    "   - Un `Pipeline` agrupa todos los pasos que se deben realizar antes de la etapa de predicción en una sola entidad. Esto simplifica el código y facilita su gestión, especialmente cuando hay múltiples pasos de preprocesamiento.\n",
    "\n",
    "2. **Evitar Fugas de Datos:**\n",
    "   - Al usar un `Pipeline`, las operaciones de preprocesamiento se aplican solo al conjunto de datos con el que se está trabajando en cada etapa (entrenamiento, validación o prueba). Esto ayuda a evitar fugas de datos, donde información del conjunto de prueba podría influir en el modelo durante el entrenamiento.\n",
    "\n",
    "3. **Facilita la Validación Cruzada:**\n",
    "   - El `Pipeline` permite evaluar todo el proceso de transformación y modelado mediante validación cruzada de una sola vez, asegurando que se utilice el mismo conjunto de datos en cada etapa del proceso.\n",
    "\n",
    "4. **Optimización de Hiperparámetros:**\n",
    "   - En combinación con funciones como `GridSearchCV` o `RandomizedSearchCV`, puedes optimizar los hiperparámetros de todo el `Pipeline`, no solo del estimador final. Esto es especialmente útil cuando los hiperparámetros de las etapas de preprocesamiento también son críticos para el rendimiento del modelo.\n",
    "\n",
    "5. **Reproducibilidad y Portabilidad:** \n",
    "   - Un `Pipeline` agrupa todos los pasos en un objeto único. Esto hace que sea mucho más fácil compartir modelos entre diferentes miembros del equipo o incluso entre diferentes proyectos, ayudando a garantizar que todos los pasos se ejecuten de manera consistente.\n",
    "\n",
    "6. **Facilita el Despliegue en Producción:** \n",
    "   - Una vez que se entrena un `Pipeline`, se puede guardar y cargar como un solo objeto, lo que simplifica mucho el proceso de mover un modelo desde un entorno de desarrollo a un entorno de producción.\n",
    "   \n",
    "Aquí hay un ejemplo simple de un Pipeline que incluye la imputación de valores faltantes, la normalización de características y la clasificación mediante un modelo de regresión logística:"
   ]
  },
  {
   "cell_type": "code",
   "execution_count": 3,
   "id": "fcbaf0a1-2837-4ccf-8120-1cd75f55ce2e",
   "metadata": {},
   "outputs": [
    {
     "data": {
      "text/plain": [
       "array([2, 2, 1, 2, 0, 1, 1, 1, 2, 0, 1, 1, 2, 0, 1, 0, 0, 2, 2, 1, 1, 0,\n",
       "       1, 0, 2, 1, 1, 2, 0, 0, 0, 2, 0, 0, 1, 2, 1, 0, 2, 1, 0, 2, 1, 1,\n",
       "       0, 1, 0, 0, 1, 0, 0, 2, 1, 1, 1, 0, 1, 1, 1, 2, 2, 0, 1, 2, 2, 1,\n",
       "       1, 0, 1, 2, 2, 1, 2, 1, 1, 1, 0, 0, 2, 0, 2, 0, 0, 1, 1, 0, 0, 0,\n",
       "       1, 0, 1, 2, 1, 1, 1, 2, 2, 1, 0, 0, 1, 2, 2, 0, 1, 2, 2, 2, 2, 1,\n",
       "       0, 1, 0, 2, 0, 0, 1, 0, 0, 2, 1, 0, 2, 2, 0, 0, 2, 2, 2, 1, 1, 1,\n",
       "       1, 1, 1, 2, 0, 1, 1, 0, 1, 1])"
      ]
     },
     "execution_count": 3,
     "metadata": {},
     "output_type": "execute_result"
    }
   ],
   "source": [
    "y_train"
   ]
  },
  {
   "cell_type": "code",
   "execution_count": 1,
   "id": "fb904609-c7af-421f-80f1-6a5480878439",
   "metadata": {},
   "outputs": [
    {
     "name": "stdout",
     "output_type": "stream",
     "text": [
      "Score del Pipeline: 1.0\n"
     ]
    }
   ],
   "source": [
    "from sklearn.datasets import load_wine\n",
    "from sklearn.model_selection import train_test_split\n",
    "from sklearn.model_selection import cross_validate\n",
    "from sklearn.pipeline import Pipeline\n",
    "from sklearn.impute import SimpleImputer\n",
    "from sklearn.preprocessing import StandardScaler\n",
    "from sklearn.linear_model import LogisticRegression\n",
    "\n",
    "data = load_wine()\n",
    "X_train, X_test, y_train, y_test = train_test_split(data.data, data.target, test_size=0.2, random_state=42)\n",
    "\n",
    "# Definir los pasos del pipeline\n",
    "pipeline_steps = [\n",
    "    ('imputer', SimpleImputer(strategy='mean')),   # Imputación de valores faltantes\n",
    "    ('scaler', StandardScaler()),                 # Normalización de las características\n",
    "    ('classifier', LogisticRegression())          # Modelo de clasificación\n",
    "]\n",
    "\n",
    "# Crear el pipeline\n",
    "pipeline = Pipeline(pipeline_steps)\n",
    "\n",
    "# Ajustar el pipeline a los datos de entrenamiento\n",
    "pipeline.fit(X_train, y_train)\n",
    "\n",
    "# Evaluar el pipeline en los datos de prueba\n",
    "score = pipeline.score(X_test, y_test)\n",
    "\n",
    "print(\"Score del Pipeline:\", score)\n"
   ]
  },
  {
   "cell_type": "code",
   "execution_count": 2,
   "id": "bf0c05eb-2923-4198-903c-e788af0f2dbf",
   "metadata": {},
   "outputs": [
    {
     "name": "stdout",
     "output_type": "stream",
     "text": [
      "fit_time: 0.0172\n",
      "score_time: 0.0105\n",
      "test_precision_macro: 0.9801\n",
      "test_recall_macro: 0.9810\n",
      "test_f1_macro: 0.9795\n"
     ]
    }
   ],
   "source": [
    "# Especificar múltiples métricas de evaluación\n",
    "scoring = ['precision_macro', 'recall_macro', 'f1_macro']\n",
    "\n",
    "# Realizar la validación cruzada\n",
    "scores = cross_validate(pipeline, X_train, y_train, cv=5, scoring=scoring)\n",
    "\n",
    "# Imprimir los resultados\n",
    "for metric_name, scores_array in scores.items():\n",
    "    print(f'{metric_name}: {scores_array.mean():.4f}')"
   ]
  },
  {
   "cell_type": "markdown",
   "id": "b9f74cfa-9440-41d8-a4c6-2e4c299d53f1",
   "metadata": {},
   "source": [
    "La función cross_validate de Scikit-Learn es una herramienta que permite evaluar múltiples métricas de un estimador (como un modelo o un pipeline) mediante validación cruzada. A diferencia de cross_val_score, que solo devuelve los puntajes de evaluación, cross_validate permite especificar múltiples métricas y además devuelve información sobre el tiempo que tarda cada fase del proceso de evaluación.\n",
    "\n",
    "Sus aspectos más relevantes son:\n",
    "\n",
    "- Múltiples métricas\n",
    "- Información de Tiempo\n",
    "- Especifica número de folds\n",
    "\n",
    "Respecto a lo \"Macro\", se debe una explicación:\n",
    "\n",
    "Score de Macro-Average:\n",
    "\n",
    "- Calcula la métrica para cada clase y luego toma el promedio sin ponderar las clases. Esto puede ser útil si te importa el rendimiento en **todas las clases por igual**, independientemente de su tamaño.\n",
    "\n",
    "Score de Micro-Average:\n",
    "\n",
    "- Calcula métricas globales sumando los verdaderos positivos, falsos positivos y falsos negativos. Es útil si te importa el **rendimiento global** sobre todas las clases."
   ]
  },
  {
   "cell_type": "markdown",
   "id": "c606fab8-af90-4d83-ae22-559eea78f409",
   "metadata": {},
   "source": [
    "### Un ejemplo con varios modelos (foco en modelamiento)"
   ]
  },
  {
   "cell_type": "code",
   "execution_count": 4,
   "id": "a14f2582-02f3-47e6-8050-6a8beb30f49e",
   "metadata": {},
   "outputs": [],
   "source": [
    "from sklearn.datasets import load_wine\n",
    "from sklearn.model_selection import train_test_split, GridSearchCV, RandomizedSearchCV\n",
    "from sklearn.ensemble import RandomForestClassifier, AdaBoostClassifier\n",
    "from sklearn.linear_model import LogisticRegression\n",
    "from sklearn.pipeline import make_pipeline\n",
    "from sklearn.preprocessing import StandardScaler\n",
    "\n",
    "data = load_wine()\n",
    "X_train, X_test, y_train, y_test = train_test_split(data.data, data.target, test_size=0.2)"
   ]
  },
  {
   "cell_type": "code",
   "execution_count": 5,
   "id": "b9f8a000-767a-4bdd-9cb7-c01283346d1a",
   "metadata": {},
   "outputs": [],
   "source": [
    "#Los pipeline se crean de la siguiente manera:\n",
    "\n",
    "# Regresión Logística\n",
    "pipe_logistic = Pipeline([\n",
    "    ('scaler', StandardScaler()),\n",
    "    ('classifier', LogisticRegression())\n",
    "])\n",
    "\n",
    "# Random Forest\n",
    "pipe_rf = Pipeline([\n",
    "    ('scaler', StandardScaler()),\n",
    "    ('classifier', RandomForestClassifier())\n",
    "])\n",
    "\n",
    "# AdaBoost\n",
    "pipe_adaboost = Pipeline([\n",
    "    ('scaler', StandardScaler()),\n",
    "    ('classifier', AdaBoostClassifier())\n",
    "])\n"
   ]
  },
  {
   "cell_type": "code",
   "execution_count": 7,
   "id": "a4fd76d2-1d33-4fd0-a8c9-057e0c2f792e",
   "metadata": {},
   "outputs": [],
   "source": [
    "# Se definen los espacios de hiperparámetros para cada modelo:\n",
    "\n",
    "\n",
    "# Hiperparámetros para la Regresión Logística\n",
    "param_grid_logistic = {\n",
    "    'classifier__C': [0.001, 0.01, 0.1, 1, 10, 100],\n",
    "    'classifier__max_iter': [500,1000,1500]\n",
    "}\n",
    "\n",
    "# Hiperparámetros para el Random Forest\n",
    "param_rf = {\n",
    "    'classifier__n_estimators': [50, 100, 200],\n",
    "    'classifier__max_depth': [10, 20, 30],\n",
    "    'classifier__min_samples_split': [2, 5, 10]\n",
    "}\n",
    "\n",
    "\n",
    "param_grid_ada = {\n",
    "    'classifier__n_estimators': [50, 100, 150],\n",
    "    'classifier__learning_rate': [0.01, 0.1, 1]\n",
    "}\n"
   ]
  },
  {
   "cell_type": "code",
   "execution_count": 8,
   "id": "d4569847-6d93-4e19-a3fe-8cc160a45e15",
   "metadata": {},
   "outputs": [
    {
     "name": "stderr",
     "output_type": "stream",
     "text": [
      "C:\\Users\\aleph\\anaconda3\\lib\\site-packages\\sklearn\\model_selection\\_search.py:307: UserWarning: The total space of parameters 9 is smaller than n_iter=10. Running 9 iterations. For exhaustive searches, use GridSearchCV.\n",
      "  warnings.warn(\n"
     ]
    },
    {
     "data": {
      "text/html": [
       "<style>#sk-container-id-1 {color: black;}#sk-container-id-1 pre{padding: 0;}#sk-container-id-1 div.sk-toggleable {background-color: white;}#sk-container-id-1 label.sk-toggleable__label {cursor: pointer;display: block;width: 100%;margin-bottom: 0;padding: 0.3em;box-sizing: border-box;text-align: center;}#sk-container-id-1 label.sk-toggleable__label-arrow:before {content: \"▸\";float: left;margin-right: 0.25em;color: #696969;}#sk-container-id-1 label.sk-toggleable__label-arrow:hover:before {color: black;}#sk-container-id-1 div.sk-estimator:hover label.sk-toggleable__label-arrow:before {color: black;}#sk-container-id-1 div.sk-toggleable__content {max-height: 0;max-width: 0;overflow: hidden;text-align: left;background-color: #f0f8ff;}#sk-container-id-1 div.sk-toggleable__content pre {margin: 0.2em;color: black;border-radius: 0.25em;background-color: #f0f8ff;}#sk-container-id-1 input.sk-toggleable__control:checked~div.sk-toggleable__content {max-height: 200px;max-width: 100%;overflow: auto;}#sk-container-id-1 input.sk-toggleable__control:checked~label.sk-toggleable__label-arrow:before {content: \"▾\";}#sk-container-id-1 div.sk-estimator input.sk-toggleable__control:checked~label.sk-toggleable__label {background-color: #d4ebff;}#sk-container-id-1 div.sk-label input.sk-toggleable__control:checked~label.sk-toggleable__label {background-color: #d4ebff;}#sk-container-id-1 input.sk-hidden--visually {border: 0;clip: rect(1px 1px 1px 1px);clip: rect(1px, 1px, 1px, 1px);height: 1px;margin: -1px;overflow: hidden;padding: 0;position: absolute;width: 1px;}#sk-container-id-1 div.sk-estimator {font-family: monospace;background-color: #f0f8ff;border: 1px dotted black;border-radius: 0.25em;box-sizing: border-box;margin-bottom: 0.5em;}#sk-container-id-1 div.sk-estimator:hover {background-color: #d4ebff;}#sk-container-id-1 div.sk-parallel-item::after {content: \"\";width: 100%;border-bottom: 1px solid gray;flex-grow: 1;}#sk-container-id-1 div.sk-label:hover label.sk-toggleable__label {background-color: #d4ebff;}#sk-container-id-1 div.sk-serial::before {content: \"\";position: absolute;border-left: 1px solid gray;box-sizing: border-box;top: 0;bottom: 0;left: 50%;z-index: 0;}#sk-container-id-1 div.sk-serial {display: flex;flex-direction: column;align-items: center;background-color: white;padding-right: 0.2em;padding-left: 0.2em;position: relative;}#sk-container-id-1 div.sk-item {position: relative;z-index: 1;}#sk-container-id-1 div.sk-parallel {display: flex;align-items: stretch;justify-content: center;background-color: white;position: relative;}#sk-container-id-1 div.sk-item::before, #sk-container-id-1 div.sk-parallel-item::before {content: \"\";position: absolute;border-left: 1px solid gray;box-sizing: border-box;top: 0;bottom: 0;left: 50%;z-index: -1;}#sk-container-id-1 div.sk-parallel-item {display: flex;flex-direction: column;z-index: 1;position: relative;background-color: white;}#sk-container-id-1 div.sk-parallel-item:first-child::after {align-self: flex-end;width: 50%;}#sk-container-id-1 div.sk-parallel-item:last-child::after {align-self: flex-start;width: 50%;}#sk-container-id-1 div.sk-parallel-item:only-child::after {width: 0;}#sk-container-id-1 div.sk-dashed-wrapped {border: 1px dashed gray;margin: 0 0.4em 0.5em 0.4em;box-sizing: border-box;padding-bottom: 0.4em;background-color: white;}#sk-container-id-1 div.sk-label label {font-family: monospace;font-weight: bold;display: inline-block;line-height: 1.2em;}#sk-container-id-1 div.sk-label-container {text-align: center;}#sk-container-id-1 div.sk-container {/* jupyter's `normalize.less` sets `[hidden] { display: none; }` but bootstrap.min.css set `[hidden] { display: none !important; }` so we also need the `!important` here to be able to override the default hidden behavior on the sphinx rendered scikit-learn.org. See: https://github.com/scikit-learn/scikit-learn/issues/21755 */display: inline-block !important;position: relative;}#sk-container-id-1 div.sk-text-repr-fallback {display: none;}</style><div id=\"sk-container-id-1\" class=\"sk-top-container\"><div class=\"sk-text-repr-fallback\"><pre>RandomizedSearchCV(cv=5,\n",
       "                   estimator=Pipeline(steps=[(&#x27;scaler&#x27;, StandardScaler()),\n",
       "                                             (&#x27;classifier&#x27;,\n",
       "                                              AdaBoostClassifier())]),\n",
       "                   param_distributions={&#x27;classifier__learning_rate&#x27;: [0.01, 0.1,\n",
       "                                                                      1],\n",
       "                                        &#x27;classifier__n_estimators&#x27;: [50, 100,\n",
       "                                                                     150]})</pre><b>In a Jupyter environment, please rerun this cell to show the HTML representation or trust the notebook. <br />On GitHub, the HTML representation is unable to render, please try loading this page with nbviewer.org.</b></div><div class=\"sk-container\" hidden><div class=\"sk-item sk-dashed-wrapped\"><div class=\"sk-label-container\"><div class=\"sk-label sk-toggleable\"><input class=\"sk-toggleable__control sk-hidden--visually\" id=\"sk-estimator-id-1\" type=\"checkbox\" ><label for=\"sk-estimator-id-1\" class=\"sk-toggleable__label sk-toggleable__label-arrow\">RandomizedSearchCV</label><div class=\"sk-toggleable__content\"><pre>RandomizedSearchCV(cv=5,\n",
       "                   estimator=Pipeline(steps=[(&#x27;scaler&#x27;, StandardScaler()),\n",
       "                                             (&#x27;classifier&#x27;,\n",
       "                                              AdaBoostClassifier())]),\n",
       "                   param_distributions={&#x27;classifier__learning_rate&#x27;: [0.01, 0.1,\n",
       "                                                                      1],\n",
       "                                        &#x27;classifier__n_estimators&#x27;: [50, 100,\n",
       "                                                                     150]})</pre></div></div></div><div class=\"sk-parallel\"><div class=\"sk-parallel-item\"><div class=\"sk-item\"><div class=\"sk-label-container\"><div class=\"sk-label sk-toggleable\"><input class=\"sk-toggleable__control sk-hidden--visually\" id=\"sk-estimator-id-2\" type=\"checkbox\" ><label for=\"sk-estimator-id-2\" class=\"sk-toggleable__label sk-toggleable__label-arrow\">estimator: Pipeline</label><div class=\"sk-toggleable__content\"><pre>Pipeline(steps=[(&#x27;scaler&#x27;, StandardScaler()),\n",
       "                (&#x27;classifier&#x27;, AdaBoostClassifier())])</pre></div></div></div><div class=\"sk-serial\"><div class=\"sk-item\"><div class=\"sk-serial\"><div class=\"sk-item\"><div class=\"sk-estimator sk-toggleable\"><input class=\"sk-toggleable__control sk-hidden--visually\" id=\"sk-estimator-id-3\" type=\"checkbox\" ><label for=\"sk-estimator-id-3\" class=\"sk-toggleable__label sk-toggleable__label-arrow\">StandardScaler</label><div class=\"sk-toggleable__content\"><pre>StandardScaler()</pre></div></div></div><div class=\"sk-item\"><div class=\"sk-estimator sk-toggleable\"><input class=\"sk-toggleable__control sk-hidden--visually\" id=\"sk-estimator-id-4\" type=\"checkbox\" ><label for=\"sk-estimator-id-4\" class=\"sk-toggleable__label sk-toggleable__label-arrow\">AdaBoostClassifier</label><div class=\"sk-toggleable__content\"><pre>AdaBoostClassifier()</pre></div></div></div></div></div></div></div></div></div></div></div></div>"
      ],
      "text/plain": [
       "RandomizedSearchCV(cv=5,\n",
       "                   estimator=Pipeline(steps=[('scaler', StandardScaler()),\n",
       "                                             ('classifier',\n",
       "                                              AdaBoostClassifier())]),\n",
       "                   param_distributions={'classifier__learning_rate': [0.01, 0.1,\n",
       "                                                                      1],\n",
       "                                        'classifier__n_estimators': [50, 100,\n",
       "                                                                     150]})"
      ]
     },
     "execution_count": 8,
     "metadata": {},
     "output_type": "execute_result"
    }
   ],
   "source": [
    "#HPO\n",
    "\n",
    "# Regresión Logística\n",
    "search_logistic = RandomizedSearchCV(pipe_logistic, param_grid_logistic, n_iter=10, cv=5)\n",
    "search_logistic.fit(X_train, y_train)\n",
    "\n",
    "# Random Forest\n",
    "search_rf = RandomizedSearchCV(pipe_rf, param_rf, n_iter=10, cv=5, random_state=42)\n",
    "search_rf.fit(X_train, y_train)\n",
    "\n",
    "# AdaBoost\n",
    "search_adaboost = RandomizedSearchCV(pipe_adaboost, param_grid_ada, n_iter=10, cv=5)\n",
    "search_adaboost.fit(X_train, y_train)\n"
   ]
  },
  {
   "cell_type": "code",
   "execution_count": 9,
   "id": "2232805e-a050-450d-82f1-155ffd7cfaa4",
   "metadata": {},
   "outputs": [
    {
     "name": "stdout",
     "output_type": "stream",
     "text": [
      "Mejores parámetros Regresión Logística:  {'classifier__max_iter': 500, 'classifier__C': 10}\n",
      "Precisión Regresión Logística:  0.9722222222222222\n",
      "Mejores parámetros Random Forest:  {'classifier__n_estimators': 50, 'classifier__min_samples_split': 5, 'classifier__max_depth': 30}\n",
      "Precisión Random Forest:  1.0\n",
      "Mejores parámetros AdaBoost:  {'classifier__n_estimators': 150, 'classifier__learning_rate': 0.01}\n",
      "Precisión AdaBoost:  1.0\n"
     ]
    }
   ],
   "source": [
    "# Imprimir los resultados\n",
    "print(\"Mejores parámetros Regresión Logística: \", search_logistic.best_params_)\n",
    "print(\"Precisión Regresión Logística: \", search_logistic.score(X_test, y_test))\n",
    "\n",
    "print(\"Mejores parámetros Random Forest: \", search_rf.best_params_)\n",
    "print(\"Precisión Random Forest: \", search_rf.score(X_test, y_test))\n",
    "\n",
    "print(\"Mejores parámetros AdaBoost: \", search_adaboost.best_params_)\n",
    "print(\"Precisión AdaBoost: \", search_adaboost.score(X_test, y_test))\n"
   ]
  },
  {
   "cell_type": "code",
   "execution_count": 10,
   "id": "ef5ebdbc-0b20-4540-ae2c-00bb6fae23ce",
   "metadata": {},
   "outputs": [
    {
     "name": "stdout",
     "output_type": "stream",
     "text": [
      "Precisión de Regresión Logística: 0.9722222222222222\n",
      "Precisión de Random Forest: 1.0\n",
      "Precisión de AdaBoost: 1.0\n",
      "F1-score de Regresión Logística: 0.9729344729344729\n",
      "F1-score de Random Forest: 1.0\n",
      "F1-score de AdaBoost: 1.0\n"
     ]
    }
   ],
   "source": [
    "#Calcular y Comparar Métricas de Evaluación\n",
    "from sklearn.metrics import accuracy_score, precision_score, recall_score, f1_score, roc_auc_score\n",
    "\n",
    "# Predecir las etiquetas del conjunto de prueba\n",
    "y_pred_logistic = search_logistic.predict(X_test)\n",
    "y_pred_rf = search_rf.predict(X_test)\n",
    "y_pred_ada = search_adaboost.predict(X_test)\n",
    "\n",
    "# Comparar la precisión\n",
    "print(\"Precisión de Regresión Logística:\", accuracy_score(y_test, y_pred_logistic))\n",
    "print(\"Precisión de Random Forest:\", accuracy_score(y_test, y_pred_rf))\n",
    "print(\"Precisión de AdaBoost:\", accuracy_score(y_test, y_pred_ada))\n",
    "\n",
    "# Comparar F1-score\n",
    "print(\"F1-score de Regresión Logística:\", f1_score(y_test, y_pred_logistic, average='weighted'))\n",
    "print(\"F1-score de Random Forest:\", f1_score(y_test, y_pred_rf, average='weighted'))\n",
    "print(\"F1-score de AdaBoost:\", f1_score(y_test, y_pred_ada, average='weighted'))\n"
   ]
  },
  {
   "cell_type": "code",
   "execution_count": null,
   "id": "9d5ffa58-88bb-496e-9f94-3c56e4d71e8a",
   "metadata": {},
   "outputs": [],
   "source": [
    "#### ahoa con adaboost"
   ]
  }
 ],
 "metadata": {
  "kernelspec": {
   "display_name": "Python 3 (ipykernel)",
   "language": "python",
   "name": "python3"
  },
  "language_info": {
   "codemirror_mode": {
    "name": "ipython",
    "version": 3
   },
   "file_extension": ".py",
   "mimetype": "text/x-python",
   "name": "python",
   "nbconvert_exporter": "python",
   "pygments_lexer": "ipython3",
   "version": "3.9.7"
  }
 },
 "nbformat": 4,
 "nbformat_minor": 5
}
