{
 "cells": [
  {
   "cell_type": "code",
   "execution_count": 1,
   "id": "3a6ea91a-c083-40c9-a94e-37ec30509104",
   "metadata": {},
   "outputs": [],
   "source": [
    "# 1. Importar las bibliotecas necesarias\n",
    "from sklearn.datasets import load_wine\n",
    "from sklearn.model_selection import train_test_split\n",
    "from sklearn.tree import DecisionTreeClassifier\n",
    "from sklearn.metrics import accuracy_score\n",
    "from sklearn.metrics import log_loss\n",
    "from sklearn.preprocessing import LabelBinarizer\n",
    "\n",
    "# 2. Cargar los datos\n",
    "\n",
    "wine = load_wine()\n",
    "X = wine.data\n",
    "y = wine.target\n",
    "\n",
    "# 3. Preprocesar los datos\n",
    "# Dividir los datos en un conjunto de entrenamiento y prueba\n",
    "X_train, X_test, y_train, y_test = train_test_split(X, y, test_size=0.2, random_state=42)"
   ]
  },
  {
   "cell_type": "code",
   "execution_count": 2,
   "id": "052ad916-7bcb-447a-bcec-fa5029f74717",
   "metadata": {},
   "outputs": [
    {
     "data": {
      "text/html": [
       "<style>#sk-container-id-1 {color: black;}#sk-container-id-1 pre{padding: 0;}#sk-container-id-1 div.sk-toggleable {background-color: white;}#sk-container-id-1 label.sk-toggleable__label {cursor: pointer;display: block;width: 100%;margin-bottom: 0;padding: 0.3em;box-sizing: border-box;text-align: center;}#sk-container-id-1 label.sk-toggleable__label-arrow:before {content: \"▸\";float: left;margin-right: 0.25em;color: #696969;}#sk-container-id-1 label.sk-toggleable__label-arrow:hover:before {color: black;}#sk-container-id-1 div.sk-estimator:hover label.sk-toggleable__label-arrow:before {color: black;}#sk-container-id-1 div.sk-toggleable__content {max-height: 0;max-width: 0;overflow: hidden;text-align: left;background-color: #f0f8ff;}#sk-container-id-1 div.sk-toggleable__content pre {margin: 0.2em;color: black;border-radius: 0.25em;background-color: #f0f8ff;}#sk-container-id-1 input.sk-toggleable__control:checked~div.sk-toggleable__content {max-height: 200px;max-width: 100%;overflow: auto;}#sk-container-id-1 input.sk-toggleable__control:checked~label.sk-toggleable__label-arrow:before {content: \"▾\";}#sk-container-id-1 div.sk-estimator input.sk-toggleable__control:checked~label.sk-toggleable__label {background-color: #d4ebff;}#sk-container-id-1 div.sk-label input.sk-toggleable__control:checked~label.sk-toggleable__label {background-color: #d4ebff;}#sk-container-id-1 input.sk-hidden--visually {border: 0;clip: rect(1px 1px 1px 1px);clip: rect(1px, 1px, 1px, 1px);height: 1px;margin: -1px;overflow: hidden;padding: 0;position: absolute;width: 1px;}#sk-container-id-1 div.sk-estimator {font-family: monospace;background-color: #f0f8ff;border: 1px dotted black;border-radius: 0.25em;box-sizing: border-box;margin-bottom: 0.5em;}#sk-container-id-1 div.sk-estimator:hover {background-color: #d4ebff;}#sk-container-id-1 div.sk-parallel-item::after {content: \"\";width: 100%;border-bottom: 1px solid gray;flex-grow: 1;}#sk-container-id-1 div.sk-label:hover label.sk-toggleable__label {background-color: #d4ebff;}#sk-container-id-1 div.sk-serial::before {content: \"\";position: absolute;border-left: 1px solid gray;box-sizing: border-box;top: 0;bottom: 0;left: 50%;z-index: 0;}#sk-container-id-1 div.sk-serial {display: flex;flex-direction: column;align-items: center;background-color: white;padding-right: 0.2em;padding-left: 0.2em;position: relative;}#sk-container-id-1 div.sk-item {position: relative;z-index: 1;}#sk-container-id-1 div.sk-parallel {display: flex;align-items: stretch;justify-content: center;background-color: white;position: relative;}#sk-container-id-1 div.sk-item::before, #sk-container-id-1 div.sk-parallel-item::before {content: \"\";position: absolute;border-left: 1px solid gray;box-sizing: border-box;top: 0;bottom: 0;left: 50%;z-index: -1;}#sk-container-id-1 div.sk-parallel-item {display: flex;flex-direction: column;z-index: 1;position: relative;background-color: white;}#sk-container-id-1 div.sk-parallel-item:first-child::after {align-self: flex-end;width: 50%;}#sk-container-id-1 div.sk-parallel-item:last-child::after {align-self: flex-start;width: 50%;}#sk-container-id-1 div.sk-parallel-item:only-child::after {width: 0;}#sk-container-id-1 div.sk-dashed-wrapped {border: 1px dashed gray;margin: 0 0.4em 0.5em 0.4em;box-sizing: border-box;padding-bottom: 0.4em;background-color: white;}#sk-container-id-1 div.sk-label label {font-family: monospace;font-weight: bold;display: inline-block;line-height: 1.2em;}#sk-container-id-1 div.sk-label-container {text-align: center;}#sk-container-id-1 div.sk-container {/* jupyter's `normalize.less` sets `[hidden] { display: none; }` but bootstrap.min.css set `[hidden] { display: none !important; }` so we also need the `!important` here to be able to override the default hidden behavior on the sphinx rendered scikit-learn.org. See: https://github.com/scikit-learn/scikit-learn/issues/21755 */display: inline-block !important;position: relative;}#sk-container-id-1 div.sk-text-repr-fallback {display: none;}</style><div id=\"sk-container-id-1\" class=\"sk-top-container\"><div class=\"sk-text-repr-fallback\"><pre>DecisionTreeClassifier(max_depth=5, min_samples_leaf=5, min_samples_split=5)</pre><b>In a Jupyter environment, please rerun this cell to show the HTML representation or trust the notebook. <br />On GitHub, the HTML representation is unable to render, please try loading this page with nbviewer.org.</b></div><div class=\"sk-container\" hidden><div class=\"sk-item\"><div class=\"sk-estimator sk-toggleable\"><input class=\"sk-toggleable__control sk-hidden--visually\" id=\"sk-estimator-id-1\" type=\"checkbox\" checked><label for=\"sk-estimator-id-1\" class=\"sk-toggleable__label sk-toggleable__label-arrow\">DecisionTreeClassifier</label><div class=\"sk-toggleable__content\"><pre>DecisionTreeClassifier(max_depth=5, min_samples_leaf=5, min_samples_split=5)</pre></div></div></div></div></div>"
      ],
      "text/plain": [
       "DecisionTreeClassifier(max_depth=5, min_samples_leaf=5, min_samples_split=5)"
      ]
     },
     "execution_count": 2,
     "metadata": {},
     "output_type": "execute_result"
    }
   ],
   "source": [
    "# 1. Crear el objeto del árbol de decisión\n",
    "clf = DecisionTreeClassifier(max_depth=5, min_samples_split=5, min_samples_leaf=5)\n",
    "\n",
    "# 2. Entrenar el modelo\n",
    "clf.fit(X_train, y_train)\n"
   ]
  },
  {
   "cell_type": "raw",
   "id": "152cc88a-29e1-4922-9c37-708015037bb0",
   "metadata": {},
   "source": [
    "!pip install graphviz"
   ]
  },
  {
   "cell_type": "raw",
   "id": "5800df58-ac3b-4f70-9834-91805e6778f4",
   "metadata": {},
   "source": [
    "import os\n",
    "os.environ[\"PATH\"] += os.pathsep + 'D:/Program Files (x86)/Graphviz2.38/bin/'"
   ]
  },
  {
   "cell_type": "code",
   "execution_count": 3,
   "id": "537bded4-bbe7-4d95-838f-de052e886d05",
   "metadata": {},
   "outputs": [
    {
     "data": {
      "image/svg+xml": [
       "<?xml version=\"1.0\" encoding=\"UTF-8\" standalone=\"no\"?>\n",
       "<!DOCTYPE svg PUBLIC \"-//W3C//DTD SVG 1.1//EN\"\n",
       " \"http://www.w3.org/Graphics/SVG/1.1/DTD/svg11.dtd\">\n",
       "<!-- Generated by graphviz version 8.1.0 (20230707.0739)\n",
       " -->\n",
       "<!-- Title: Tree Pages: 1 -->\n",
       "<svg width=\"606pt\" height=\"462pt\"\n",
       " viewBox=\"0.00 0.00 606.25 461.50\" xmlns=\"http://www.w3.org/2000/svg\" xmlns:xlink=\"http://www.w3.org/1999/xlink\">\n",
       "<g id=\"graph0\" class=\"graph\" transform=\"scale(1 1) rotate(0) translate(4 457.5)\">\n",
       "<title>Tree</title>\n",
       "<polygon fill=\"white\" stroke=\"none\" points=\"-4,4 -4,-457.5 602.25,-457.5 602.25,4 -4,4\"/>\n",
       "<!-- 0 -->\n",
       "<g id=\"node1\" class=\"node\">\n",
       "<title>0</title>\n",
       "<polygon fill=\"#e7fcef\" stroke=\"black\" points=\"343.75,-453.5 184.5,-453.5 184.5,-363 343.75,-363 343.75,-453.5\"/>\n",
       "<text text-anchor=\"middle\" x=\"264.12\" y=\"-436.2\" font-family=\"Helvetica,sans-Serif\" font-size=\"14.00\">color_intensity &lt;= 3.82</text>\n",
       "<text text-anchor=\"middle\" x=\"264.12\" y=\"-419.7\" font-family=\"Helvetica,sans-Serif\" font-size=\"14.00\">gini = 0.659</text>\n",
       "<text text-anchor=\"middle\" x=\"264.12\" y=\"-403.2\" font-family=\"Helvetica,sans-Serif\" font-size=\"14.00\">samples = 142</text>\n",
       "<text text-anchor=\"middle\" x=\"264.12\" y=\"-386.7\" font-family=\"Helvetica,sans-Serif\" font-size=\"14.00\">value = [45, 57, 40]</text>\n",
       "<text text-anchor=\"middle\" x=\"264.12\" y=\"-370.2\" font-family=\"Helvetica,sans-Serif\" font-size=\"14.00\">class = class_1</text>\n",
       "</g>\n",
       "<!-- 1 -->\n",
       "<g id=\"node2\" class=\"node\">\n",
       "<title>1</title>\n",
       "<polygon fill=\"#45e789\" stroke=\"black\" points=\"253.25,-327 133,-327 133,-236.5 253.25,-236.5 253.25,-327\"/>\n",
       "<text text-anchor=\"middle\" x=\"193.12\" y=\"-309.7\" font-family=\"Helvetica,sans-Serif\" font-size=\"14.00\">proline &lt;= 790.0</text>\n",
       "<text text-anchor=\"middle\" x=\"193.12\" y=\"-293.2\" font-family=\"Helvetica,sans-Serif\" font-size=\"14.00\">gini = 0.109</text>\n",
       "<text text-anchor=\"middle\" x=\"193.12\" y=\"-276.7\" font-family=\"Helvetica,sans-Serif\" font-size=\"14.00\">samples = 52</text>\n",
       "<text text-anchor=\"middle\" x=\"193.12\" y=\"-260.2\" font-family=\"Helvetica,sans-Serif\" font-size=\"14.00\">value = [3, 49, 0]</text>\n",
       "<text text-anchor=\"middle\" x=\"193.12\" y=\"-243.7\" font-family=\"Helvetica,sans-Serif\" font-size=\"14.00\">class = class_1</text>\n",
       "</g>\n",
       "<!-- 0&#45;&gt;1 -->\n",
       "<g id=\"edge1\" class=\"edge\">\n",
       "<title>0&#45;&gt;1</title>\n",
       "<path fill=\"none\" stroke=\"black\" d=\"M238.69,-362.65C233.95,-354.34 228.95,-345.57 224.06,-337\"/>\n",
       "<polygon fill=\"black\" stroke=\"black\" points=\"226.61,-335.41 218.62,-328.45 220.53,-338.87 226.61,-335.41\"/>\n",
       "<text text-anchor=\"middle\" x=\"212.02\" y=\"-346.52\" font-family=\"Helvetica,sans-Serif\" font-size=\"14.00\">True</text>\n",
       "</g>\n",
       "<!-- 4 -->\n",
       "<g id=\"node5\" class=\"node\">\n",
       "<title>4</title>\n",
       "<polygon fill=\"#fefaf7\" stroke=\"black\" points=\"399.38,-327 270.88,-327 270.88,-236.5 399.38,-236.5 399.38,-327\"/>\n",
       "<text text-anchor=\"middle\" x=\"335.12\" y=\"-309.7\" font-family=\"Helvetica,sans-Serif\" font-size=\"14.00\">flavanoids &lt;= 1.4</text>\n",
       "<text text-anchor=\"middle\" x=\"335.12\" y=\"-293.2\" font-family=\"Helvetica,sans-Serif\" font-size=\"14.00\">gini = 0.577</text>\n",
       "<text text-anchor=\"middle\" x=\"335.12\" y=\"-276.7\" font-family=\"Helvetica,sans-Serif\" font-size=\"14.00\">samples = 90</text>\n",
       "<text text-anchor=\"middle\" x=\"335.12\" y=\"-260.2\" font-family=\"Helvetica,sans-Serif\" font-size=\"14.00\">value = [42, 8, 40]</text>\n",
       "<text text-anchor=\"middle\" x=\"335.12\" y=\"-243.7\" font-family=\"Helvetica,sans-Serif\" font-size=\"14.00\">class = class_0</text>\n",
       "</g>\n",
       "<!-- 0&#45;&gt;4 -->\n",
       "<g id=\"edge4\" class=\"edge\">\n",
       "<title>0&#45;&gt;4</title>\n",
       "<path fill=\"none\" stroke=\"black\" d=\"M289.56,-362.65C294.3,-354.34 299.3,-345.57 304.19,-337\"/>\n",
       "<polygon fill=\"black\" stroke=\"black\" points=\"307.72,-338.87 309.63,-328.45 301.64,-335.41 307.72,-338.87\"/>\n",
       "<text text-anchor=\"middle\" x=\"316.23\" y=\"-346.52\" font-family=\"Helvetica,sans-Serif\" font-size=\"14.00\">False</text>\n",
       "</g>\n",
       "<!-- 2 -->\n",
       "<g id=\"node3\" class=\"node\">\n",
       "<title>2</title>\n",
       "<polygon fill=\"#39e581\" stroke=\"black\" points=\"120.25,-192.25 0,-192.25 0,-118.25 120.25,-118.25 120.25,-192.25\"/>\n",
       "<text text-anchor=\"middle\" x=\"60.12\" y=\"-174.95\" font-family=\"Helvetica,sans-Serif\" font-size=\"14.00\">gini = 0.0</text>\n",
       "<text text-anchor=\"middle\" x=\"60.12\" y=\"-158.45\" font-family=\"Helvetica,sans-Serif\" font-size=\"14.00\">samples = 45</text>\n",
       "<text text-anchor=\"middle\" x=\"60.12\" y=\"-141.95\" font-family=\"Helvetica,sans-Serif\" font-size=\"14.00\">value = [0, 45, 0]</text>\n",
       "<text text-anchor=\"middle\" x=\"60.12\" y=\"-125.45\" font-family=\"Helvetica,sans-Serif\" font-size=\"14.00\">class = class_1</text>\n",
       "</g>\n",
       "<!-- 1&#45;&gt;2 -->\n",
       "<g id=\"edge2\" class=\"edge\">\n",
       "<title>1&#45;&gt;2</title>\n",
       "<path fill=\"none\" stroke=\"black\" d=\"M145.48,-236.15C132.77,-224.25 119.05,-211.41 106.41,-199.58\"/>\n",
       "<polygon fill=\"black\" stroke=\"black\" points=\"109.39,-197.63 99.7,-193.36 104.6,-202.75 109.39,-197.63\"/>\n",
       "</g>\n",
       "<!-- 3 -->\n",
       "<g id=\"node4\" class=\"node\">\n",
       "<title>3</title>\n",
       "<polygon fill=\"#cef8e0\" stroke=\"black\" points=\"252.25,-192.25 138,-192.25 138,-118.25 252.25,-118.25 252.25,-192.25\"/>\n",
       "<text text-anchor=\"middle\" x=\"195.12\" y=\"-174.95\" font-family=\"Helvetica,sans-Serif\" font-size=\"14.00\">gini = 0.49</text>\n",
       "<text text-anchor=\"middle\" x=\"195.12\" y=\"-158.45\" font-family=\"Helvetica,sans-Serif\" font-size=\"14.00\">samples = 7</text>\n",
       "<text text-anchor=\"middle\" x=\"195.12\" y=\"-141.95\" font-family=\"Helvetica,sans-Serif\" font-size=\"14.00\">value = [3, 4, 0]</text>\n",
       "<text text-anchor=\"middle\" x=\"195.12\" y=\"-125.45\" font-family=\"Helvetica,sans-Serif\" font-size=\"14.00\">class = class_1</text>\n",
       "</g>\n",
       "<!-- 1&#45;&gt;3 -->\n",
       "<g id=\"edge3\" class=\"edge\">\n",
       "<title>1&#45;&gt;3</title>\n",
       "<path fill=\"none\" stroke=\"black\" d=\"M193.84,-236.15C194.01,-225.49 194.2,-214.06 194.37,-203.29\"/>\n",
       "<polygon fill=\"black\" stroke=\"black\" points=\"197.88,-203.41 194.54,-193.36 190.88,-203.3 197.88,-203.41\"/>\n",
       "</g>\n",
       "<!-- 5 -->\n",
       "<g id=\"node6\" class=\"node\">\n",
       "<title>5</title>\n",
       "<polygon fill=\"#8139e5\" stroke=\"black\" points=\"393.25,-192.25 273,-192.25 273,-118.25 393.25,-118.25 393.25,-192.25\"/>\n",
       "<text text-anchor=\"middle\" x=\"333.12\" y=\"-174.95\" font-family=\"Helvetica,sans-Serif\" font-size=\"14.00\">gini = 0.0</text>\n",
       "<text text-anchor=\"middle\" x=\"333.12\" y=\"-158.45\" font-family=\"Helvetica,sans-Serif\" font-size=\"14.00\">samples = 40</text>\n",
       "<text text-anchor=\"middle\" x=\"333.12\" y=\"-141.95\" font-family=\"Helvetica,sans-Serif\" font-size=\"14.00\">value = [0, 0, 40]</text>\n",
       "<text text-anchor=\"middle\" x=\"333.12\" y=\"-125.45\" font-family=\"Helvetica,sans-Serif\" font-size=\"14.00\">class = class_2</text>\n",
       "</g>\n",
       "<!-- 4&#45;&gt;5 -->\n",
       "<g id=\"edge5\" class=\"edge\">\n",
       "<title>4&#45;&gt;5</title>\n",
       "<path fill=\"none\" stroke=\"black\" d=\"M334.41,-236.15C334.24,-225.49 334.05,-214.06 333.88,-203.29\"/>\n",
       "<polygon fill=\"black\" stroke=\"black\" points=\"337.37,-203.3 333.71,-193.36 330.37,-203.41 337.37,-203.3\"/>\n",
       "</g>\n",
       "<!-- 6 -->\n",
       "<g id=\"node7\" class=\"node\">\n",
       "<title>6</title>\n",
       "<polygon fill=\"#ea995f\" stroke=\"black\" points=\"531.25,-200.5 411,-200.5 411,-110 531.25,-110 531.25,-200.5\"/>\n",
       "<text text-anchor=\"middle\" x=\"471.12\" y=\"-183.2\" font-family=\"Helvetica,sans-Serif\" font-size=\"14.00\">proline &lt;= 724.5</text>\n",
       "<text text-anchor=\"middle\" x=\"471.12\" y=\"-166.7\" font-family=\"Helvetica,sans-Serif\" font-size=\"14.00\">gini = 0.269</text>\n",
       "<text text-anchor=\"middle\" x=\"471.12\" y=\"-150.2\" font-family=\"Helvetica,sans-Serif\" font-size=\"14.00\">samples = 50</text>\n",
       "<text text-anchor=\"middle\" x=\"471.12\" y=\"-133.7\" font-family=\"Helvetica,sans-Serif\" font-size=\"14.00\">value = [42, 8, 0]</text>\n",
       "<text text-anchor=\"middle\" x=\"471.12\" y=\"-117.2\" font-family=\"Helvetica,sans-Serif\" font-size=\"14.00\">class = class_0</text>\n",
       "</g>\n",
       "<!-- 4&#45;&gt;6 -->\n",
       "<g id=\"edge6\" class=\"edge\">\n",
       "<title>4&#45;&gt;6</title>\n",
       "<path fill=\"none\" stroke=\"black\" d=\"M383.84,-236.15C393.7,-227.13 404.16,-217.56 414.27,-208.3\"/>\n",
       "<polygon fill=\"black\" stroke=\"black\" points=\"416.28,-211.29 421.29,-201.95 411.55,-206.12 416.28,-211.29\"/>\n",
       "</g>\n",
       "<!-- 7 -->\n",
       "<g id=\"node8\" class=\"node\">\n",
       "<title>7</title>\n",
       "<polygon fill=\"#52e891\" stroke=\"black\" points=\"460.25,-74 346,-74 346,0 460.25,0 460.25,-74\"/>\n",
       "<text text-anchor=\"middle\" x=\"403.12\" y=\"-56.7\" font-family=\"Helvetica,sans-Serif\" font-size=\"14.00\">gini = 0.198</text>\n",
       "<text text-anchor=\"middle\" x=\"403.12\" y=\"-40.2\" font-family=\"Helvetica,sans-Serif\" font-size=\"14.00\">samples = 9</text>\n",
       "<text text-anchor=\"middle\" x=\"403.12\" y=\"-23.7\" font-family=\"Helvetica,sans-Serif\" font-size=\"14.00\">value = [1, 8, 0]</text>\n",
       "<text text-anchor=\"middle\" x=\"403.12\" y=\"-7.2\" font-family=\"Helvetica,sans-Serif\" font-size=\"14.00\">class = class_1</text>\n",
       "</g>\n",
       "<!-- 6&#45;&gt;7 -->\n",
       "<g id=\"edge7\" class=\"edge\">\n",
       "<title>6&#45;&gt;7</title>\n",
       "<path fill=\"none\" stroke=\"black\" d=\"M445.03,-109.64C440.08,-101.17 434.89,-92.3 429.91,-83.8\"/>\n",
       "<polygon fill=\"black\" stroke=\"black\" points=\"432.48,-82.26 424.41,-75.39 426.44,-85.79 432.48,-82.26\"/>\n",
       "</g>\n",
       "<!-- 8 -->\n",
       "<g id=\"node9\" class=\"node\">\n",
       "<title>8</title>\n",
       "<polygon fill=\"#e58139\" stroke=\"black\" points=\"598.25,-74 478,-74 478,0 598.25,0 598.25,-74\"/>\n",
       "<text text-anchor=\"middle\" x=\"538.12\" y=\"-56.7\" font-family=\"Helvetica,sans-Serif\" font-size=\"14.00\">gini = 0.0</text>\n",
       "<text text-anchor=\"middle\" x=\"538.12\" y=\"-40.2\" font-family=\"Helvetica,sans-Serif\" font-size=\"14.00\">samples = 41</text>\n",
       "<text text-anchor=\"middle\" x=\"538.12\" y=\"-23.7\" font-family=\"Helvetica,sans-Serif\" font-size=\"14.00\">value = [41, 0, 0]</text>\n",
       "<text text-anchor=\"middle\" x=\"538.12\" y=\"-7.2\" font-family=\"Helvetica,sans-Serif\" font-size=\"14.00\">class = class_0</text>\n",
       "</g>\n",
       "<!-- 6&#45;&gt;8 -->\n",
       "<g id=\"edge8\" class=\"edge\">\n",
       "<title>6&#45;&gt;8</title>\n",
       "<path fill=\"none\" stroke=\"black\" d=\"M496.84,-109.64C501.72,-101.17 506.83,-92.3 511.73,-83.8\"/>\n",
       "<polygon fill=\"black\" stroke=\"black\" points=\"515.19,-85.81 517.15,-75.39 509.12,-82.31 515.19,-85.81\"/>\n",
       "</g>\n",
       "</g>\n",
       "</svg>\n"
      ],
      "text/plain": [
       "<graphviz.sources.Source at 0x246b0e060d0>"
      ]
     },
     "execution_count": 3,
     "metadata": {},
     "output_type": "execute_result"
    }
   ],
   "source": [
    "# 1. Importar las herramientas de visualización necesarias\n",
    "from sklearn.tree import export_graphviz\n",
    "import graphviz \n",
    "\n",
    "# 2. Visualizar el árbol\n",
    "dot_data = export_graphviz(clf, out_file=None, \n",
    "                           feature_names=wine.feature_names,  \n",
    "                           class_names=wine.target_names,  \n",
    "                           filled=True)\n",
    "graph = graphviz.Source(dot_data)  \n",
    "graph\n"
   ]
  },
  {
   "cell_type": "code",
   "execution_count": 4,
   "id": "0c8aa928-3413-426b-9fe3-ae5c8a39397d",
   "metadata": {},
   "outputs": [
    {
     "name": "stdout",
     "output_type": "stream",
     "text": [
      "Exactitud en el conjunto de entrenamiento: 0.971830985915493\n",
      "Exactitud en el conjunto de prueba: 0.9444444444444444\n"
     ]
    }
   ],
   "source": [
    "# Evaluacion\n",
    "\n",
    "# Hacemos predicciones en los conjuntos de entrenamiento y prueba\n",
    "y_train_pred = clf.predict(X_train)\n",
    "y_test_pred = clf.predict(X_test)\n",
    "\n",
    "# Calculamos la precisión en los conjuntos de entrenamiento y prueba\n",
    "train_accuracy = accuracy_score(y_train, y_train_pred)\n",
    "test_accuracy = accuracy_score(y_test, y_test_pred)\n",
    "\n",
    "print(f'Exactitud en el conjunto de entrenamiento: {train_accuracy}')\n",
    "print(f'Exactitud en el conjunto de prueba: {test_accuracy}')"
   ]
  },
  {
   "cell_type": "code",
   "execution_count": 5,
   "id": "a1e0cdd8-51c7-43d4-a246-8dbe1a12a6cf",
   "metadata": {},
   "outputs": [
    {
     "data": {
      "image/png": "[encoded data removed]",
      "text/plain": [
       "<Figure size 720x360 with 1 Axes>"
      ]
     },
     "metadata": {
      "needs_background": "light"
     },
     "output_type": "display_data"
    }
   ],
   "source": [
    "import numpy as np\n",
    "import matplotlib.pyplot as plt\n",
    "\n",
    "# Listas para guardar los resultados de precisión\n",
    "train_accuracies = []\n",
    "test_accuracies = []\n",
    "\n",
    "# Rango de valores de profundidad que queremos probar\n",
    "max_depths = np.arange(1, 10)\n",
    "\n",
    "# Realizamos el análisis para cada valor de profundidad\n",
    "for max_depth in max_depths:\n",
    "    # Creamos y entrenamos el modelo\n",
    "    clf = DecisionTreeClassifier(max_depth=max_depth, min_samples_split=5, min_samples_leaf=5, random_state=42)\n",
    "    clf.fit(X_train, y_train)\n",
    "    \n",
    "    # Hacemos las predicciones\n",
    "    y_train_pred = clf.predict(X_train)\n",
    "    y_test_pred = clf.predict(X_test)\n",
    "    \n",
    "    # Calculamos la precisión y la añadimos a las listas correspondientes\n",
    "    train_accuracies.append(accuracy_score(y_train, y_train_pred))\n",
    "    test_accuracies.append(accuracy_score(y_test, y_test_pred))\n",
    "\n",
    "# Graficamos los resultados\n",
    "plt.figure(figsize=(10, 5))\n",
    "plt.plot(max_depths, train_accuracies, label='Train')\n",
    "plt.plot(max_depths, test_accuracies, label='Test')\n",
    "plt.xlabel('Max Depth')\n",
    "plt.ylabel('Accuracy')\n",
    "plt.legend()\n",
    "plt.show()\n"
   ]
  },
  {
   "cell_type": "code",
   "execution_count": 6,
   "id": "62822960-bac1-4116-9b56-aa7e61a63f95",
   "metadata": {},
   "outputs": [
    {
     "name": "stdout",
     "output_type": "stream",
     "text": [
      "Log-loss en el conjunto de entrenamiento: 0.05577356053162431\n",
      "Log-loss en el conjunto de prueba: 1.0345638987909311\n"
     ]
    }
   ],
   "source": [
    "# Realizamos las predicciones\n",
    "y_train_proba = clf.predict_proba(X_train)\n",
    "y_test_proba = clf.predict_proba(X_test)\n",
    "\n",
    "# Transformamos las etiquetas a formato binario para el cálculo de log-loss\n",
    "lb = LabelBinarizer()\n",
    "y_train_bin = lb.fit_transform(y_train)\n",
    "y_test_bin = lb.transform(y_test)\n",
    "\n",
    "# Calculamos la puntuación log-loss\n",
    "log_loss_train = log_loss(y_train_bin, y_train_proba)\n",
    "log_loss_test = log_loss(y_test_bin, y_test_proba)\n",
    "\n",
    "print(f\"Log-loss en el conjunto de entrenamiento: {log_loss_train}\")\n",
    "print(f\"Log-loss en el conjunto de prueba: {log_loss_test}\")"
   ]
  },
  {
   "cell_type": "code",
   "execution_count": 7,
   "id": "3771b309-1f8b-45de-b0e4-c54121e989dc",
   "metadata": {},
   "outputs": [
    {
     "data": {
      "image/png": "[encoded data removed]",
      "text/plain": [
       "<Figure size 720x432 with 1 Axes>"
      ]
     },
     "metadata": {
      "needs_background": "light"
     },
     "output_type": "display_data"
    }
   ],
   "source": [
    "# Definimos los rangos para los hiperparámetros\n",
    "max_depth_range = np.arange(1, 15)\n",
    "\n",
    "# Inicializamos las listas para almacenar las puntuaciones\n",
    "train_log_losses = []\n",
    "test_log_losses = []\n",
    "\n",
    "# Transformamos las etiquetas a formato binario para el cálculo de log-loss\n",
    "lb = LabelBinarizer()\n",
    "y_train_bin = lb.fit_transform(y_train)\n",
    "y_test_bin = lb.transform(y_test)\n",
    "\n",
    "# Calculamos las puntuaciones para cada valor de max_depth\n",
    "for max_depth in max_depth_range:\n",
    "    clf = DecisionTreeClassifier(max_depth=max_depth,  min_samples_split=5, min_samples_leaf=5,random_state=42)\n",
    "    clf.fit(X_train, y_train)\n",
    "    \n",
    "    y_train_proba = clf.predict_proba(X_train)\n",
    "    y_test_proba = clf.predict_proba(X_test)\n",
    "    \n",
    "    train_log_loss = log_loss(y_train_bin, y_train_proba)\n",
    "    test_log_loss = log_loss(y_test_bin, y_test_proba)\n",
    "    \n",
    "    train_log_losses.append(train_log_loss)\n",
    "    test_log_losses.append(test_log_loss)\n",
    "\n",
    "# Creamos la gráfica\n",
    "plt.figure(figsize=(10, 6))\n",
    "plt.plot(max_depth_range, train_log_losses, label='Train log-loss')\n",
    "plt.plot(max_depth_range, test_log_losses, label='Test log-loss')\n",
    "plt.xlabel('max_depth')\n",
    "plt.ylabel('Log-Loss')\n",
    "plt.title('Log-Loss at different values of max_depth')\n",
    "plt.legend()\n",
    "plt.show()"
   ]
  },
  {
   "cell_type": "markdown",
   "id": "88d4fb4e-c3ff-46b5-a1b2-9e30cc81f7ae",
   "metadata": {},
   "source": [
    "**Ejercicios**\n",
    "\n",
    "- Varíe los otros hiperparámetros, grafique\n",
    "- Haga pre-prodas o post-podas para evitar el sobreajuste\n"
   ]
  }
 ],
 "metadata": {
  "kernelspec": {
   "display_name": "Python 3 (ipykernel)",
   "language": "python",
   "name": "python3"
  },
  "language_info": {
   "codemirror_mode": {
    "name": "ipython",
    "version": 3
   },
   "file_extension": ".py",
   "mimetype": "text/x-python",
   "name": "python",
   "nbconvert_exporter": "python",
   "pygments_lexer": "ipython3",
   "version": "3.9.7"
  }
 },
 "nbformat": 4,
 "nbformat_minor": 5
}
