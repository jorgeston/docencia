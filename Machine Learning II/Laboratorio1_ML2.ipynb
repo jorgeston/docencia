{
 "cells": [
  {
   "cell_type": "markdown",
   "id": "a8f0d489-3554-4c6d-ac92-90858d0bb942",
   "metadata": {},
   "source": [
    "# Machine Learning II\n",
    "\n",
    "## Laboratorio práctico de Regresión Lineal\n",
    "\n",
    "### 1. Relacionando pesos y estaturas \n",
    "\n",
    "Vamos a trabajar con un dataset ficticio que sólo relaciona dos variables entre sí: pesos y estaturas.\n",
    "\n"
   ]
  },
  {
   "cell_type": "markdown",
   "id": "1015e048-5afa-43de-9518-bf3b84bad797",
   "metadata": {},
   "source": [
    "### Instrucciones\n",
    "\n",
    "* Descargar archivo excel de pesos y estaturas\n",
    "* Graficar en el plano las observaciones. Plantear una hipótesis de acuerdo a lo que observa\n",
    "* Generar los conjuntos de entrenamiento y validación\n",
    "* Escalar las variables\n",
    "* Ajustar a través de un modelo de regresión lineal usando la librería sklearn\n",
    "* Calcular MSE y MAE en el conjunto de validación\n",
    "* ¿Está sobreajustado el modelo?\n",
    "* Graficar la recta ajustada junto a los puntos. Adornar la grafica indicando leyenda."
   ]
  },
  {
   "cell_type": "code",
   "execution_count": 1,
   "id": "b0c60724-08e8-4f46-97d4-b50f3a36921e",
   "metadata": {},
   "outputs": [],
   "source": [
    "import pandas as pd\n",
    "import numpy as np\n",
    "import matplotlib.pyplot as plt\n",
    "import seaborn as sns"
   ]
  },
  {
   "cell_type": "code",
   "execution_count": 2,
   "id": "70ed985e-acd1-4461-ba9f-e564458114fb",
   "metadata": {},
   "outputs": [
    {
     "name": "stdout",
     "output_type": "stream",
     "text": [
      "<class 'pandas.core.frame.DataFrame'>\n",
      "RangeIndex: 30 entries, 0 to 29\n",
      "Data columns (total 4 columns):\n",
      " #   Column    Non-Null Count  Dtype  \n",
      "---  ------    --------------  -----  \n",
      " 0   #         30 non-null     int64  \n",
      " 1   nombre    30 non-null     object \n",
      " 2   peso      30 non-null     int64  \n",
      " 3   estatura  30 non-null     float64\n",
      "dtypes: float64(1), int64(2), object(1)\n",
      "memory usage: 1.1+ KB\n"
     ]
    }
   ],
   "source": [
    "df = pd.read_excel('pesos_estaturas.xlsx')\n",
    "df.info()"
   ]
  },
  {
   "cell_type": "code",
   "execution_count": 3,
   "id": "5b23831a-1380-41d3-9698-e4d099342806",
   "metadata": {},
   "outputs": [
    {
     "data": {
      "text/html": [
       "<div>\n",
       "<style scoped>\n",
       "    .dataframe tbody tr th:only-of-type {\n",
       "        vertical-align: middle;\n",
       "    }\n",
       "\n",
       "    .dataframe tbody tr th {\n",
       "        vertical-align: top;\n",
       "    }\n",
       "\n",
       "    .dataframe thead th {\n",
       "        text-align: right;\n",
       "    }\n",
       "</style>\n",
       "<table border=\"1\" class=\"dataframe\">\n",
       "  <thead>\n",
       "    <tr style=\"text-align: right;\">\n",
       "      <th></th>\n",
       "      <th>#</th>\n",
       "      <th>nombre</th>\n",
       "      <th>peso</th>\n",
       "      <th>estatura</th>\n",
       "    </tr>\n",
       "  </thead>\n",
       "  <tbody>\n",
       "    <tr>\n",
       "      <th>0</th>\n",
       "      <td>1</td>\n",
       "      <td>Juan</td>\n",
       "      <td>102</td>\n",
       "      <td>1.98</td>\n",
       "    </tr>\n",
       "    <tr>\n",
       "      <th>1</th>\n",
       "      <td>2</td>\n",
       "      <td>Carlos</td>\n",
       "      <td>65</td>\n",
       "      <td>1.57</td>\n",
       "    </tr>\n",
       "    <tr>\n",
       "      <th>2</th>\n",
       "      <td>3</td>\n",
       "      <td>Felipe</td>\n",
       "      <td>75</td>\n",
       "      <td>1.94</td>\n",
       "    </tr>\n",
       "    <tr>\n",
       "      <th>3</th>\n",
       "      <td>4</td>\n",
       "      <td>Anibal</td>\n",
       "      <td>92</td>\n",
       "      <td>1.61</td>\n",
       "    </tr>\n",
       "    <tr>\n",
       "      <th>4</th>\n",
       "      <td>5</td>\n",
       "      <td>Alberto</td>\n",
       "      <td>54</td>\n",
       "      <td>1.49</td>\n",
       "    </tr>\n",
       "  </tbody>\n",
       "</table>\n",
       "</div>"
      ],
      "text/plain": [
       "   #   nombre  peso  estatura\n",
       "0  1    Juan    102      1.98\n",
       "1  2  Carlos     65      1.57\n",
       "2  3   Felipe    75      1.94\n",
       "3  4   Anibal    92      1.61\n",
       "4  5  Alberto    54      1.49"
      ]
     },
     "execution_count": 3,
     "metadata": {},
     "output_type": "execute_result"
    }
   ],
   "source": [
    "df.head()"
   ]
  },
  {
   "cell_type": "code",
   "execution_count": 4,
   "id": "99a55228-01cf-40e2-a77c-b53d24b6d45d",
   "metadata": {},
   "outputs": [
    {
     "data": {
      "text/plain": [
       "<AxesSubplot:xlabel='estatura', ylabel='peso'>"
      ]
     },
     "execution_count": 4,
     "metadata": {},
     "output_type": "execute_result"
    },
    {
     "data": {
      "image/png": "[encoded data removed]",
      "text/plain": [
       "<Figure size 432x288 with 1 Axes>"
      ]
     },
     "metadata": {
      "needs_background": "light"
     },
     "output_type": "display_data"
    }
   ],
   "source": [
    "sns.scatterplot(x = df.estatura, y = df.peso)"
   ]
  },
  {
   "cell_type": "code",
   "execution_count": 5,
   "id": "249d5617-361d-4475-9072-cc069c822494",
   "metadata": {},
   "outputs": [
    {
     "data": {
      "text/plain": [
       "0     1.98\n",
       "1     1.57\n",
       "2     1.94\n",
       "3     1.61\n",
       "4     1.49\n",
       "5     1.62\n",
       "6     1.60\n",
       "7     1.68\n",
       "8     1.95\n",
       "9     1.68\n",
       "10    1.60\n",
       "11    1.82\n",
       "12    1.94\n",
       "13    1.89\n",
       "14    1.74\n",
       "15    1.60\n",
       "16    1.60\n",
       "17    1.54\n",
       "18    1.59\n",
       "19    1.78\n",
       "20    1.95\n",
       "21    1.75\n",
       "22    1.71\n",
       "23    1.65\n",
       "24    1.64\n",
       "25    1.69\n",
       "26    1.86\n",
       "27    1.66\n",
       "28    1.98\n",
       "29    1.76\n",
       "Name: estatura, dtype: float64"
      ]
     },
     "execution_count": 5,
     "metadata": {},
     "output_type": "execute_result"
    }
   ],
   "source": [
    "df.estatura"
   ]
  },
  {
   "cell_type": "code",
   "execution_count": 6,
   "id": "26c5bcfb-ab1d-4106-8a99-13b32319f236",
   "metadata": {},
   "outputs": [
    {
     "data": {
      "text/plain": [
       "0     102\n",
       "1      65\n",
       "2      75\n",
       "3      92\n",
       "4      54\n",
       "5      59\n",
       "6      61\n",
       "7      67\n",
       "8      89\n",
       "9      78\n",
       "10     80\n",
       "11     73\n",
       "12    109\n",
       "13     93\n",
       "14     75\n",
       "15     60\n",
       "16     80\n",
       "17     56\n",
       "18     49\n",
       "19    101\n",
       "20    120\n",
       "21     76\n",
       "22     86\n",
       "23     75\n",
       "24     77\n",
       "25     76\n",
       "26     97\n",
       "27     66\n",
       "28    100\n",
       "29     87\n",
       "Name: peso, dtype: int64"
      ]
     },
     "execution_count": 6,
     "metadata": {},
     "output_type": "execute_result"
    }
   ],
   "source": [
    "df.peso"
   ]
  },
  {
   "cell_type": "markdown",
   "id": "f6e5f82d-8733-4450-b13d-7c1362a6d969",
   "metadata": {},
   "source": [
    "**Hipótesis a partir de la observación:** Existe una relación creciente entre la estatura y el peso. Es decir, a mayor estatura tiene una persona, entonces tiene más peso"
   ]
  },
  {
   "cell_type": "code",
   "execution_count": 12,
   "id": "ba7c7583-3c26-45ce-be98-0ba3d820648a",
   "metadata": {},
   "outputs": [],
   "source": [
    "from sklearn.model_selection import train_test_split\n",
    "\n",
    "X_train, X_test, y_train, y_test = train_test_split(df.estatura, df.peso, test_size = 0.2)"
   ]
  },
  {
   "cell_type": "code",
   "execution_count": 13,
   "id": "4c1ba17a-74ea-4e66-830e-eb09168d5a4b",
   "metadata": {},
   "outputs": [
    {
     "data": {
      "text/plain": [
       "16    1.60\n",
       "13    1.89\n",
       "7     1.68\n",
       "3     1.61\n",
       "0     1.98\n",
       "9     1.68\n",
       "8     1.95\n",
       "14    1.74\n",
       "15    1.60\n",
       "28    1.98\n",
       "24    1.64\n",
       "19    1.78\n",
       "1     1.57\n",
       "22    1.71\n",
       "29    1.76\n",
       "26    1.86\n",
       "4     1.49\n",
       "11    1.82\n",
       "25    1.69\n",
       "23    1.65\n",
       "10    1.60\n",
       "12    1.94\n",
       "5     1.62\n",
       "18    1.59\n",
       "Name: estatura, dtype: float64"
      ]
     },
     "execution_count": 13,
     "metadata": {},
     "output_type": "execute_result"
    }
   ],
   "source": [
    "X_train"
   ]
  },
  {
   "cell_type": "code",
   "execution_count": 14,
   "id": "a637244a-f8f8-4a5b-a1a1-b78a50956671",
   "metadata": {},
   "outputs": [
    {
     "data": {
      "text/plain": [
       "2     1.94\n",
       "17    1.54\n",
       "20    1.95\n",
       "21    1.75\n",
       "27    1.66\n",
       "6     1.60\n",
       "Name: estatura, dtype: float64"
      ]
     },
     "execution_count": 14,
     "metadata": {},
     "output_type": "execute_result"
    }
   ],
   "source": [
    "X_test"
   ]
  },
  {
   "cell_type": "code",
   "execution_count": 15,
   "id": "9adbd4a5-fb24-4a51-a39f-0547483786e1",
   "metadata": {},
   "outputs": [
    {
     "data": {
      "text/plain": [
       "16     80\n",
       "13     93\n",
       "7      67\n",
       "3      92\n",
       "0     102\n",
       "9      78\n",
       "8      89\n",
       "14     75\n",
       "15     60\n",
       "28    100\n",
       "24     77\n",
       "19    101\n",
       "1      65\n",
       "22     86\n",
       "29     87\n",
       "26     97\n",
       "4      54\n",
       "11     73\n",
       "25     76\n",
       "23     75\n",
       "10     80\n",
       "12    109\n",
       "5      59\n",
       "18     49\n",
       "Name: peso, dtype: int64"
      ]
     },
     "execution_count": 15,
     "metadata": {},
     "output_type": "execute_result"
    }
   ],
   "source": [
    "y_train"
   ]
  },
  {
   "cell_type": "code",
   "execution_count": 16,
   "id": "e33af003-44dc-4021-ae57-bbec35381578",
   "metadata": {},
   "outputs": [
    {
     "data": {
      "text/plain": [
       "2      75\n",
       "17     56\n",
       "20    120\n",
       "21     76\n",
       "27     66\n",
       "6      61\n",
       "Name: peso, dtype: int64"
      ]
     },
     "execution_count": 16,
     "metadata": {},
     "output_type": "execute_result"
    }
   ],
   "source": [
    "y_test"
   ]
  },
  {
   "cell_type": "code",
   "execution_count": 23,
   "id": "dfcebfb8-8ae4-454e-b237-166116a63245",
   "metadata": {},
   "outputs": [],
   "source": [
    "from sklearn.preprocessing import MinMaxScaler\n",
    "\n",
    "scaler = MinMaxScaler()\n",
    "\n",
    "# se escala r/ solo al conjunto de entrenamientol, previniendo el filtrado del test hacia training\n",
    "scaler.fit(np.array(X_train).reshape(-1, 1))\n",
    "\n",
    "\n",
    "# ver https://stackoverflow.com/questions/51150153/valueerror-expected-2d-array-got-1d-array-instead ,\n",
    "# segunda respeusta (con dibujos) para entender el reshape\n",
    "\n",
    "X_train = scaler.transform(np.array(X_train).reshape(-1, 1))\n",
    "X_test  = scaler.transform(np.array(X_test).reshape(-1, 1))\n",
    "\n",
    "# debemos pasar a numpy.array ya que los debe leer como arreglos para hacer la transformacion\n",
    "# esta complicacion se da principalmente cuando estamos contrastado una variable versus una variable, tal como dicen en el link"
   ]
  },
  {
   "cell_type": "code",
   "execution_count": 24,
   "id": "cb0997c1-1af0-4e30-bf88-dc80be1a5127",
   "metadata": {},
   "outputs": [
    {
     "data": {
      "text/plain": [
       "array([[0.2244898 ],\n",
       "       [0.81632653],\n",
       "       [0.3877551 ],\n",
       "       [0.24489796],\n",
       "       [1.        ],\n",
       "       [0.3877551 ],\n",
       "       [0.93877551],\n",
       "       [0.51020408],\n",
       "       [0.2244898 ],\n",
       "       [1.        ],\n",
       "       [0.30612245],\n",
       "       [0.59183673],\n",
       "       [0.16326531],\n",
       "       [0.44897959],\n",
       "       [0.55102041],\n",
       "       [0.75510204],\n",
       "       [0.        ],\n",
       "       [0.67346939],\n",
       "       [0.40816327],\n",
       "       [0.32653061],\n",
       "       [0.2244898 ],\n",
       "       [0.91836735],\n",
       "       [0.26530612],\n",
       "       [0.20408163]])"
      ]
     },
     "execution_count": 24,
     "metadata": {},
     "output_type": "execute_result"
    }
   ],
   "source": [
    "X_train"
   ]
  },
  {
   "cell_type": "code",
   "execution_count": 25,
   "id": "2abf4b15-ddc4-4d15-95cf-a2e89ec68754",
   "metadata": {},
   "outputs": [
    {
     "data": {
      "text/plain": [
       "array([[0.91836735],\n",
       "       [0.10204082],\n",
       "       [0.93877551],\n",
       "       [0.53061224],\n",
       "       [0.34693878],\n",
       "       [0.2244898 ]])"
      ]
     },
     "execution_count": 25,
     "metadata": {},
     "output_type": "execute_result"
    }
   ],
   "source": [
    "X_test"
   ]
  },
  {
   "cell_type": "code",
   "execution_count": 26,
   "id": "0214075b-b3aa-4045-a8a3-ee22cb84a115",
   "metadata": {},
   "outputs": [
    {
     "data": {
      "text/html": [
       "<style>#sk-container-id-1 {color: black;}#sk-container-id-1 pre{padding: 0;}#sk-container-id-1 div.sk-toggleable {background-color: white;}#sk-container-id-1 label.sk-toggleable__label {cursor: pointer;display: block;width: 100%;margin-bottom: 0;padding: 0.3em;box-sizing: border-box;text-align: center;}#sk-container-id-1 label.sk-toggleable__label-arrow:before {content: \"▸\";float: left;margin-right: 0.25em;color: #696969;}#sk-container-id-1 label.sk-toggleable__label-arrow:hover:before {color: black;}#sk-container-id-1 div.sk-estimator:hover label.sk-toggleable__label-arrow:before {color: black;}#sk-container-id-1 div.sk-toggleable__content {max-height: 0;max-width: 0;overflow: hidden;text-align: left;background-color: #f0f8ff;}#sk-container-id-1 div.sk-toggleable__content pre {margin: 0.2em;color: black;border-radius: 0.25em;background-color: #f0f8ff;}#sk-container-id-1 input.sk-toggleable__control:checked~div.sk-toggleable__content {max-height: 200px;max-width: 100%;overflow: auto;}#sk-container-id-1 input.sk-toggleable__control:checked~label.sk-toggleable__label-arrow:before {content: \"▾\";}#sk-container-id-1 div.sk-estimator input.sk-toggleable__control:checked~label.sk-toggleable__label {background-color: #d4ebff;}#sk-container-id-1 div.sk-label input.sk-toggleable__control:checked~label.sk-toggleable__label {background-color: #d4ebff;}#sk-container-id-1 input.sk-hidden--visually {border: 0;clip: rect(1px 1px 1px 1px);clip: rect(1px, 1px, 1px, 1px);height: 1px;margin: -1px;overflow: hidden;padding: 0;position: absolute;width: 1px;}#sk-container-id-1 div.sk-estimator {font-family: monospace;background-color: #f0f8ff;border: 1px dotted black;border-radius: 0.25em;box-sizing: border-box;margin-bottom: 0.5em;}#sk-container-id-1 div.sk-estimator:hover {background-color: #d4ebff;}#sk-container-id-1 div.sk-parallel-item::after {content: \"\";width: 100%;border-bottom: 1px solid gray;flex-grow: 1;}#sk-container-id-1 div.sk-label:hover label.sk-toggleable__label {background-color: #d4ebff;}#sk-container-id-1 div.sk-serial::before {content: \"\";position: absolute;border-left: 1px solid gray;box-sizing: border-box;top: 0;bottom: 0;left: 50%;z-index: 0;}#sk-container-id-1 div.sk-serial {display: flex;flex-direction: column;align-items: center;background-color: white;padding-right: 0.2em;padding-left: 0.2em;position: relative;}#sk-container-id-1 div.sk-item {position: relative;z-index: 1;}#sk-container-id-1 div.sk-parallel {display: flex;align-items: stretch;justify-content: center;background-color: white;position: relative;}#sk-container-id-1 div.sk-item::before, #sk-container-id-1 div.sk-parallel-item::before {content: \"\";position: absolute;border-left: 1px solid gray;box-sizing: border-box;top: 0;bottom: 0;left: 50%;z-index: -1;}#sk-container-id-1 div.sk-parallel-item {display: flex;flex-direction: column;z-index: 1;position: relative;background-color: white;}#sk-container-id-1 div.sk-parallel-item:first-child::after {align-self: flex-end;width: 50%;}#sk-container-id-1 div.sk-parallel-item:last-child::after {align-self: flex-start;width: 50%;}#sk-container-id-1 div.sk-parallel-item:only-child::after {width: 0;}#sk-container-id-1 div.sk-dashed-wrapped {border: 1px dashed gray;margin: 0 0.4em 0.5em 0.4em;box-sizing: border-box;padding-bottom: 0.4em;background-color: white;}#sk-container-id-1 div.sk-label label {font-family: monospace;font-weight: bold;display: inline-block;line-height: 1.2em;}#sk-container-id-1 div.sk-label-container {text-align: center;}#sk-container-id-1 div.sk-container {/* jupyter's `normalize.less` sets `[hidden] { display: none; }` but bootstrap.min.css set `[hidden] { display: none !important; }` so we also need the `!important` here to be able to override the default hidden behavior on the sphinx rendered scikit-learn.org. See: https://github.com/scikit-learn/scikit-learn/issues/21755 */display: inline-block !important;position: relative;}#sk-container-id-1 div.sk-text-repr-fallback {display: none;}</style><div id=\"sk-container-id-1\" class=\"sk-top-container\"><div class=\"sk-text-repr-fallback\"><pre>LinearRegression()</pre><b>In a Jupyter environment, please rerun this cell to show the HTML representation or trust the notebook. <br />On GitHub, the HTML representation is unable to render, please try loading this page with nbviewer.org.</b></div><div class=\"sk-container\" hidden><div class=\"sk-item\"><div class=\"sk-estimator sk-toggleable\"><input class=\"sk-toggleable__control sk-hidden--visually\" id=\"sk-estimator-id-1\" type=\"checkbox\" checked><label for=\"sk-estimator-id-1\" class=\"sk-toggleable__label sk-toggleable__label-arrow\">LinearRegression</label><div class=\"sk-toggleable__content\"><pre>LinearRegression()</pre></div></div></div></div></div>"
      ],
      "text/plain": [
       "LinearRegression()"
      ]
     },
     "execution_count": 26,
     "metadata": {},
     "output_type": "execute_result"
    }
   ],
   "source": [
    "from sklearn.linear_model import LinearRegression\n",
    "\n",
    "# llamamos la instancia\n",
    "reg = LinearRegression()\n",
    "\n",
    "# hacemos el ajuste\n",
    "reg.fit(X_train, y_train)"
   ]
  },
  {
   "cell_type": "raw",
   "id": "7cd97427-74ce-429d-8509-111faebc8934",
   "metadata": {},
   "source": [
    "array=[1.6 , 1.89, 1.68 ]\n",
    "\n",
    "np.array(array)"
   ]
  },
  {
   "cell_type": "raw",
   "id": "47672c7f-1ea0-4b45-b6e0-17847bdf20ce",
   "metadata": {},
   "source": [
    "np.array(array).reshape(-1,1)"
   ]
  },
  {
   "cell_type": "code",
   "execution_count": 27,
   "id": "f2c0e5f4-58fd-495c-914a-a1cfeb5b9c42",
   "metadata": {},
   "outputs": [
    {
     "name": "stdout",
     "output_type": "stream",
     "text": [
      "59.49565056450122\n"
     ]
    }
   ],
   "source": [
    "#obtenemos el intercepto\n",
    "print(reg.intercept_)"
   ]
  },
  {
   "cell_type": "code",
   "execution_count": null,
   "id": "59ee7e00-bf65-4214-b3ff-d9d941578116",
   "metadata": {},
   "outputs": [
    {
     "name": "stdout",
     "output_type": "stream",
     "text": [
      "[42.87321858]\n"
     ]
    }
   ],
   "source": [
    "#obtenemos el coeficiente(pendiente)\n",
    "print(reg.coef_)"
   ]
  },
  {
   "cell_type": "code",
   "execution_count": 30,
   "id": "1ea9a128-6078-4c6d-a4e9-af5781f81dbf",
   "metadata": {},
   "outputs": [
    {
     "data": {
      "text/plain": [
       "array([[0.91836735],\n",
       "       [0.10204082],\n",
       "       [0.93877551],\n",
       "       [0.53061224],\n",
       "       [0.34693878],\n",
       "       [0.2244898 ]])"
      ]
     },
     "execution_count": 30,
     "metadata": {},
     "output_type": "execute_result"
    }
   ],
   "source": [
    "X_test"
   ]
  },
  {
   "cell_type": "code",
   "execution_count": 29,
   "id": "93c20d70-c4d2-4a80-96f8-8222958a392a",
   "metadata": {},
   "outputs": [
    {
     "data": {
      "text/plain": [
       "array([98.86901457, 63.87046879, 99.74397821, 82.24470532, 74.37003252,\n",
       "       69.12025065])"
      ]
     },
     "execution_count": 29,
     "metadata": {},
     "output_type": "execute_result"
    }
   ],
   "source": [
    "# Generamos la prediccion sobre el test\n",
    "\n",
    "reg.predict(X_test)"
   ]
  },
  {
   "cell_type": "code",
   "execution_count": 31,
   "id": "5c4f4ee0-053b-43f9-932a-ba2a4cf95d58",
   "metadata": {},
   "outputs": [
    {
     "data": {
      "text/plain": [
       "2      75\n",
       "17     56\n",
       "20    120\n",
       "21     76\n",
       "27     66\n",
       "6      61\n",
       "Name: peso, dtype: int64"
      ]
     },
     "execution_count": 31,
     "metadata": {},
     "output_type": "execute_result"
    }
   ],
   "source": [
    "y_test"
   ]
  },
  {
   "cell_type": "code",
   "execution_count": 32,
   "id": "0dd3d181-22c8-4ef6-82e7-55da8f052ec7",
   "metadata": {},
   "outputs": [
    {
     "data": {
      "text/plain": [
       "202.82880228389854"
      ]
     },
     "execution_count": 32,
     "metadata": {},
     "output_type": "execute_result"
    }
   ],
   "source": [
    "from sklearn.metrics import mean_absolute_error, mean_squared_error\n",
    "\n",
    "# calculamos el MSE\n",
    "mean_squared_error(reg.predict(X_test),y_test)"
   ]
  },
  {
   "cell_type": "code",
   "execution_count": 33,
   "id": "547ae112-0a44-4320-919c-580903c09dea",
   "metadata": {},
   "outputs": [
    {
     "data": {
      "text/plain": [
       "14.24179771952609"
      ]
     },
     "execution_count": 33,
     "metadata": {},
     "output_type": "execute_result"
    }
   ],
   "source": [
    "202.82880228389854**0.5"
   ]
  },
  {
   "cell_type": "code",
   "execution_count": 34,
   "id": "db6d6345-ef67-4f98-9e40-2bd2a982f1c7",
   "metadata": {},
   "outputs": [],
   "source": [
    "# recordar que la escala de este error esta al cuadrado, asi q debemos sacar raiz cuadrada\n",
    "\n",
    "MSE = np.sqrt(mean_squared_error(reg.predict(X_test),y_test))"
   ]
  },
  {
   "cell_type": "code",
   "execution_count": 35,
   "id": "2c96415e-0cf8-4b4d-a758-4f4eb45d8295",
   "metadata": {},
   "outputs": [
    {
     "data": {
      "text/plain": [
       "14.24179771952609"
      ]
     },
     "execution_count": 35,
     "metadata": {},
     "output_type": "execute_result"
    }
   ],
   "source": [
    "MSE"
   ]
  },
  {
   "cell_type": "code",
   "execution_count": 36,
   "id": "f7139087-5fe6-4551-becd-da07db104967",
   "metadata": {},
   "outputs": [
    {
     "data": {
      "text/plain": [
       "12.455082273516481"
      ]
     },
     "execution_count": 36,
     "metadata": {},
     "output_type": "execute_result"
    }
   ],
   "source": [
    "# calculamos el MAE\n",
    "MAE = mean_absolute_error(reg.predict(X_test),y_test)\n",
    "MAE"
   ]
  },
  {
   "cell_type": "markdown",
   "id": "75c617a3-9e9c-48ad-b57d-29808d4155ca",
   "metadata": {},
   "source": [
    "**Dio mejor el MAE, asi que nos quedamos con este**"
   ]
  },
  {
   "cell_type": "code",
   "execution_count": 37,
   "id": "e62c1072-9057-4b1d-8bea-dffdd2a79db6",
   "metadata": {},
   "outputs": [
    {
     "data": {
      "text/plain": [
       "7.838059543639779"
      ]
     },
     "execution_count": 37,
     "metadata": {},
     "output_type": "execute_result"
    }
   ],
   "source": [
    "# veamos como anda el MAE en el conjunto test\n",
    "\n",
    "MAE_training = mean_absolute_error(reg.predict(X_train),y_train)\n",
    "MAE_training"
   ]
  },
  {
   "cell_type": "code",
   "execution_count": 38,
   "id": "6d4759cc-bfe0-470d-a423-3984681cf1e9",
   "metadata": {},
   "outputs": [
    {
     "data": {
      "text/plain": [
       "-4.617022729876703"
      ]
     },
     "execution_count": 38,
     "metadata": {},
     "output_type": "execute_result"
    }
   ],
   "source": [
    "diferencia = MAE_training - MAE\n",
    "diferencia"
   ]
  },
  {
   "cell_type": "code",
   "execution_count": 39,
   "id": "e5abb944-2c17-4444-8544-2abbd577198e",
   "metadata": {},
   "outputs": [],
   "source": [
    "MSE_training = np.sqrt(mean_squared_error(reg.predict(X_train),y_train))"
   ]
  },
  {
   "cell_type": "code",
   "execution_count": 40,
   "id": "0009b71c-a190-4071-a1d1-cf9ed4874779",
   "metadata": {},
   "outputs": [
    {
     "data": {
      "text/plain": [
       "-4.422500779084151"
      ]
     },
     "execution_count": 40,
     "metadata": {},
     "output_type": "execute_result"
    }
   ],
   "source": [
    "MSE_training-MSE"
   ]
  },
  {
   "cell_type": "code",
   "execution_count": 41,
   "id": "58bb8995-25ac-4a7b-9a25-dfec1bade9b6",
   "metadata": {},
   "outputs": [
    {
     "data": {
      "text/plain": [
       "Text(0, 0.5, 'peso [kg]')"
      ]
     },
     "execution_count": 41,
     "metadata": {},
     "output_type": "execute_result"
    },
    {
     "data": {
      "image/png": "[encoded data removed]",
      "text/plain": [
       "<Figure size 432x288 with 1 Axes>"
      ]
     },
     "metadata": {
      "needs_background": "light"
     },
     "output_type": "display_data"
    }
   ],
   "source": [
    "plt.plot(X_train, y_train, 'r*',label='train')\n",
    "plt.plot(X_test, y_test, 'g*',label='test')\n",
    "plt.plot(X_train,[reg.intercept_+reg.coef_*x for x in X_train], label='fit')\n",
    "plt.legend()\n",
    "plt.xlabel('estatura [m]')\n",
    "plt.ylabel('peso [kg]')"
   ]
  },
  {
   "cell_type": "markdown",
   "id": "b678c831-a2d4-4f5a-9bfd-58cda3c861bf",
   "metadata": {},
   "source": [
    "### 2. Prediciendo la diabetes\n",
    "\n",
    "Este conjunto de datos se utiliza para el análisis de regresión y contiene diez variables básicas: edad, sexo, índice de masa corporal, presión arterial promedio y seis mediciones de suero sanguíneo.\n",
    "\n",
    "Aquí hay una descripción detallada de cada columna:\n",
    "\n",
    "- Edad: Edad del paciente.\n",
    "- Sexo: Sexo del paciente.\n",
    "- Índice de masa corporal (IMC): Esta es una simple cálculo utilizando la altura y el peso de una persona. Cuanto mayor es el IMC, mayor es el riesgo de que una persona desarrolle diabetes u otros trastornos metabólicos.\n",
    "- Presión arterial promedio: Esta es la presión arterial promedio del paciente.\n",
    "- S1, S2, S3, S4, S5, S6: Estas son seis mediciones de suero sanguíneo, que son pruebas médicas realizadas en una muestra de sangre para dar una visión general de la salud del paciente.\n",
    "\n",
    "La variable dependiente es una medida cuantitativa de la progresión de la enfermedad un año después de la línea de base.\n",
    "\n",
    "#### Usaremos 4 enfoques para estimar un modelo de regresión, para ver qué variables influyen en la predictibilidad de la diabetes \n",
    "\n",
    "*Disclaimer:* en este ejercicio no están consieradas las buenas prácticas del \"filtrado de datos (data leakage)\", que consiste en dividir primero en training y test y luego estandarizar, ajustando sobre training y transformando sobre test\n",
    "\n",
    "#### 1) enfoque ingenuo"
   ]
  },
  {
   "cell_type": "code",
   "execution_count": 50,
   "id": "9ec1ac19-292d-42e7-a59a-33819b62c297",
   "metadata": {},
   "outputs": [
    {
     "name": "stdout",
     "output_type": "stream",
     "text": [
      "Feature: age, Coefficient: 1.802910438962701\n",
      "Feature: sex, Coefficient: -11.50907104661945\n",
      "Feature: bmi, Coefficient: 25.800704946064055\n",
      "Feature: bp, Coefficient: 16.53858528808865\n",
      "Feature: s1, Coefficient: -44.30640613327392\n",
      "Feature: s2, Coefficient: 24.64170961122036\n",
      "Feature: s3, Coefficient: 7.773095908451926\n",
      "Feature: s4, Coefficient: 13.095537125336397\n",
      "Feature: s5, Coefficient: 35.01740872328467\n",
      "Feature: s6, Coefficient: 2.315027092899583\n"
     ]
    }
   ],
   "source": [
    "# Importar las bibliotecas necesarias\n",
    "from sklearn import datasets\n",
    "from sklearn.linear_model import LinearRegression\n",
    "from sklearn.model_selection import train_test_split\n",
    "from sklearn.preprocessing import StandardScaler\n",
    "\n",
    "# Cargar el conjunto de datos\n",
    "diabetes = datasets.load_diabetes()\n",
    "\n",
    "# Crear un DataFrame para manipular las características\n",
    "import pandas as pd\n",
    "df = pd.DataFrame(diabetes.data, columns=diabetes.feature_names)\n",
    "\n",
    "# Estandarizar las características\n",
    "scaler = StandardScaler()\n",
    "df_scaled = scaler.fit_transform(df)\n",
    "\n",
    "# Dividir los datos en conjuntos de entrenamiento y prueba\n",
    "X_train, X_test, y_train, y_test = train_test_split(df_scaled, diabetes.target, test_size=0.2, random_state=42)\n",
    "\n",
    "# Crear y entrenar el modelo de regresión lineal\n",
    "model = LinearRegression()\n",
    "model.fit(X_train, y_train)\n",
    "\n",
    "# Imprimir los coeficientes\n",
    "for feature, coef in zip(df.columns, model.coef_):\n",
    "    print(f\"Feature: {feature}, Coefficient: {coef}\")\n"
   ]
  },
  {
   "cell_type": "markdown",
   "id": "50ea124b-15eb-49f1-847f-4cfdd4378973",
   "metadata": {},
   "source": [
    "#### enfoque menos ingenuo: LASSO"
   ]
  },
  {
   "cell_type": "code",
   "execution_count": 54,
   "id": "70960a85-48b4-43ca-8508-212e58d4ba2a",
   "metadata": {},
   "outputs": [
    {
     "name": "stdout",
     "output_type": "stream",
     "text": [
      "Feature: age, Coefficient: 0.6664273270520479\n",
      "Feature: sex, Coefficient: -9.29674392001009\n",
      "Feature: bmi, Coefficient: 26.399081632289445\n",
      "Feature: bp, Coefficient: 15.418076674801785\n",
      "Feature: s1, Coefficient: -8.284704189365392\n",
      "Feature: s2, Coefficient: -0.0\n",
      "Feature: s3, Coefficient: -9.02046643838305\n",
      "Feature: s4, Coefficient: 3.5352979010422314\n",
      "Feature: s5, Coefficient: 22.553239296330172\n",
      "Feature: s6, Coefficient: 2.089893928737473\n"
     ]
    }
   ],
   "source": [
    "# Importar las bibliotecas necesarias\n",
    "from sklearn import datasets\n",
    "from sklearn.linear_model import Lasso\n",
    "from sklearn.model_selection import train_test_split\n",
    "from sklearn.preprocessing import StandardScaler\n",
    "\n",
    "# Cargar el conjunto de datos\n",
    "diabetes = datasets.load_diabetes()\n",
    "\n",
    "# Crear un DataFrame para manipular las características\n",
    "import pandas as pd\n",
    "df = pd.DataFrame(diabetes.data, columns=diabetes.feature_names)\n",
    "\n",
    "# Estandarizar las características\n",
    "scaler = StandardScaler()\n",
    "df_scaled = scaler.fit_transform(df)\n",
    "\n",
    "# Dividir los datos en conjuntos de entrenamiento y prueba\n",
    "X_train, X_test, y_train, y_test = train_test_split(df_scaled, diabetes.target, test_size=0.2, random_state=42)\n",
    "\n",
    "# Crear y entrenar el modelo Lasso\n",
    "model = Lasso(alpha=1) # puedes cambiar el valor de alpha para ajustar la regularización\n",
    "model.fit(X_train, y_train)\n",
    "\n",
    "# Imprimir los coeficientes\n",
    "for feature, coef in zip(df.columns, model.coef_):\n",
    "    print(f\"Feature: {feature}, Coefficient: {coef}\")\n"
   ]
  },
  {
   "cell_type": "markdown",
   "id": "678969d1-f18b-4651-a082-2204de44a17b",
   "metadata": {},
   "source": [
    "#### enfoque menos ingenuo aun: LASSO con validación cruzada"
   ]
  },
  {
   "cell_type": "code",
   "execution_count": 57,
   "id": "d33398c7-d916-43da-b352-dcd0fde9e945",
   "metadata": {},
   "outputs": [
    {
     "name": "stdout",
     "output_type": "stream",
     "text": [
      "Optimal alpha selected by cross-validation: 1.6427960388028346\n",
      "Feature: age, Coefficient: 0.0\n",
      "Feature: sex, Coefficient: -7.998806069424583\n",
      "Feature: bmi, Coefficient: 26.357499517029034\n",
      "Feature: bp, Coefficient: 14.822713501250693\n",
      "Feature: s1, Coefficient: -4.845123896617646\n",
      "Feature: s2, Coefficient: -0.0\n",
      "Feature: s3, Coefficient: -11.184348348997206\n",
      "Feature: s4, Coefficient: 0.0\n",
      "Feature: s5, Coefficient: 21.90782827736661\n",
      "Feature: s6, Coefficient: 1.756203161219818\n"
     ]
    }
   ],
   "source": [
    "# Importar las bibliotecas necesarias\n",
    "from sklearn import datasets\n",
    "from sklearn.linear_model import LassoCV\n",
    "from sklearn.model_selection import train_test_split\n",
    "from sklearn.preprocessing import StandardScaler\n",
    "\n",
    "# Cargar el conjunto de datos\n",
    "diabetes = datasets.load_diabetes()\n",
    "\n",
    "# Crear un DataFrame para manipular las características\n",
    "import pandas as pd\n",
    "df = pd.DataFrame(diabetes.data, columns=diabetes.feature_names)\n",
    "\n",
    "# Estandarizar las características\n",
    "scaler = StandardScaler()\n",
    "df_scaled = scaler.fit_transform(df)\n",
    "\n",
    "# Dividir los datos en conjuntos de entrenamiento y prueba\n",
    "X_train, X_test, y_train, y_test = train_test_split(df_scaled, diabetes.target, test_size=0.2, random_state=42)\n",
    "\n",
    "# Crear y entrenar el modelo Lasso con validación cruzada\n",
    "model = LassoCV(cv=5) # puedes cambiar el número de folds en la validación cruzada con el parámetro cv\n",
    "model.fit(X_train, y_train)\n",
    "\n",
    "# Imprimir el alpha seleccionado\n",
    "print(f\"Optimal alpha selected by cross-validation: {model.alpha_}\")\n",
    "\n",
    "# Imprimir los coeficientes\n",
    "for feature, coef in zip(df.columns, model.coef_):\n",
    "    print(f\"Feature: {feature}, Coefficient: {coef}\")\n"
   ]
  },
  {
   "cell_type": "markdown",
   "id": "16bced69-cbfa-4d0b-9e3f-4087f1957e99",
   "metadata": {},
   "source": [
    "#### enfoque estadístico"
   ]
  },
  {
   "cell_type": "code",
   "execution_count": 58,
   "id": "3de376d4-6323-492f-8dce-3abec8125f06",
   "metadata": {},
   "outputs": [
    {
     "name": "stderr",
     "output_type": "stream",
     "text": [
      "C:\\Users\\aleph\\anaconda3\\lib\\site-packages\\statsmodels\\tsa\\tsatools.py:142: FutureWarning: In a future version of pandas all arguments of concat except for the argument 'objs' will be keyword-only\n",
      "  x = pd.concat(x[::order], 1)\n"
     ]
    },
    {
     "name": "stdout",
     "output_type": "stream",
     "text": [
      "                            OLS Regression Results                            \n",
      "==============================================================================\n",
      "Dep. Variable:                      y   R-squared:                       0.518\n",
      "Model:                            OLS   Adj. R-squared:                  0.507\n",
      "Method:                 Least Squares   F-statistic:                     46.27\n",
      "Date:                Sat, 15 Jul 2023   Prob (F-statistic):           3.83e-62\n",
      "Time:                        13:14:42   Log-Likelihood:                -2386.0\n",
      "No. Observations:                 442   AIC:                             4794.\n",
      "Df Residuals:                     431   BIC:                             4839.\n",
      "Df Model:                          10                                         \n",
      "Covariance Type:            nonrobust                                         \n",
      "==============================================================================\n",
      "                 coef    std err          t      P>|t|      [0.025      0.975]\n",
      "------------------------------------------------------------------------------\n",
      "const        152.1335      2.576     59.061      0.000     147.071     157.196\n",
      "age           -0.4761      2.842     -0.168      0.867      -6.062       5.110\n",
      "sex          -11.4069      2.912     -3.917      0.000     -17.130      -5.683\n",
      "bmi           24.7265      3.165      7.813      0.000      18.506      30.947\n",
      "bp            15.4294      3.112      4.958      0.000       9.313      21.546\n",
      "s1           -37.6800     19.819     -1.901      0.058     -76.635       1.275\n",
      "s2            22.6762     16.126      1.406      0.160      -9.019      54.372\n",
      "s3             4.8061     10.109      0.475      0.635     -15.063      24.675\n",
      "s4             8.4220      7.681      1.097      0.273      -6.674      23.518\n",
      "s5            35.7344      8.176      4.370      0.000      19.664      51.805\n",
      "s6             3.2167      3.139      1.025      0.306      -2.952       9.385\n",
      "==============================================================================\n",
      "Omnibus:                        1.506   Durbin-Watson:                   2.029\n",
      "Prob(Omnibus):                  0.471   Jarque-Bera (JB):                1.404\n",
      "Skew:                           0.017   Prob(JB):                        0.496\n",
      "Kurtosis:                       2.726   Cond. No.                         21.7\n",
      "==============================================================================\n",
      "\n",
      "Notes:\n",
      "[1] Standard Errors assume that the covariance matrix of the errors is correctly specified.\n"
     ]
    }
   ],
   "source": [
    "# Importar las bibliotecas necesarias\n",
    "from sklearn import datasets\n",
    "from sklearn.preprocessing import StandardScaler\n",
    "import statsmodels.api as sm\n",
    "import pandas as pd\n",
    "\n",
    "# Cargar el conjunto de datos\n",
    "diabetes = datasets.load_diabetes()\n",
    "\n",
    "# Crear un DataFrame para manipular las características\n",
    "df = pd.DataFrame(diabetes.data, columns=diabetes.feature_names)\n",
    "\n",
    "# Estandarizar las características\n",
    "scaler = StandardScaler()\n",
    "df_scaled = pd.DataFrame(scaler.fit_transform(df), columns=diabetes.feature_names)\n",
    "\n",
    "# Añadir una columna constante al DataFrame para el término de intersección\n",
    "df_scaled = sm.add_constant(df_scaled)\n",
    "\n",
    "# Crear y entrenar el modelo de regresión lineal\n",
    "model = sm.OLS(diabetes.target, df_scaled)\n",
    "results = model.fit()\n",
    "\n",
    "# Imprimir los coeficientes y los valores p\n",
    "print(results.summary())"
   ]
  },
  {
   "cell_type": "markdown",
   "id": "9a1e8b17-2556-4534-ac97-a4a50ad806cd",
   "metadata": {},
   "source": [
    "#### Conclusiones\n",
    " - LASSO con validación cruzada indicó que *age*, *s2* y *s4* no son relevantes para el modelo\n",
    " - MiCO (OLS) al 95% de confianza indica que, lanzando todo el modelo con todos los atributos,  *age*, *s1*, *s2*, *s3*, *s4* y *s6* no son significativas ya que su valor $p$ es mayor a $0.005$, es decir, no hay suficiente evidencia estadística para rechazar la hipótesis nula (que su coficiente de regresión asociado sea 0)\n",
    " - Entre ambos metodos, parece ser que *age*, *s2* y *s4* debrían salir del modelo de regresión\n",
    " - El análisis no está terminado. Se debe reajustar el modelo con las variables que se quitaron. Frente a esto, hay dos caminos a seguir \n",
    "     - LASSO para descartar + iteración en MiCO: Dado que LASSO dice que hay que sacar *age*, *s2* y *s4* , entonces, estimar por MiCO todo menos esas variables y ver cuales son significativas. Luego, iterar n veces sobre MiCO sacando variables que no son significativas\n",
    "     - Ya que *age*, *s2* y *s4* en común no son significativas, relanzar LASSO, y luego MiCO sin estas variables e iterar sobre este camino hasta no encontrar variables irrelevantes/no significativas en común entre ambos métodos\n",
    "     \n",
    "     Yo sugiero el primer camino, ya que en la literatura se ha visto que LASSO sirve para descartar variables a priori, mientras que MiCO sirve para confirmar la significancia estadística ya que la inferencia es fundamental en la investigación científica que usa metodologías econométricas. \n",
    " "
   ]
  }
 ],
 "metadata": {
  "kernelspec": {
   "display_name": "Python 3 (ipykernel)",
   "language": "python",
   "name": "python3"
  },
  "language_info": {
   "codemirror_mode": {
    "name": "ipython",
    "version": 3
   },
   "file_extension": ".py",
   "mimetype": "text/x-python",
   "name": "python",
   "nbconvert_exporter": "python",
   "pygments_lexer": "ipython3",
   "version": "3.9.7"
  }
 },
 "nbformat": 4,
 "nbformat_minor": 5
}
