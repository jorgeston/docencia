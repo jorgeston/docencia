{
 "cells": [
  {
   "cell_type": "markdown",
   "id": "c237d951-1ff0-49c3-8e5e-b46257242b1d",
   "metadata": {},
   "source": [
    "# Prediciendo la enfermedad cardiaca usando regresión logística"
   ]
  },
  {
   "cell_type": "markdown",
   "id": "25a3852e-1752-4c8d-8089-a3132b17ef7f",
   "metadata": {},
   "source": [
    "El dataset Framingham Heart Study es un conjunto de datos famoso en el campo de la epidemiología y la medicina. La ciudad de Framingham, Massachusetts, en los Estados Unidos, ha sido la sede de un estudio a largo plazo sobre la salud del corazón que comenzó en 1948. Desde entonces, los datos recopilados en Framingham han sido vitales para nuestra comprensión de la enfermedad cardiovascular.\n",
    "\n",
    "El estudio de Framingham fue uno de los primeros en identificar la hipertensión, el colesterol alto, el tabaquismo, la obesidad, la diabetes y otros factores como riesgos clave para el desarrollo de enfermedades del corazón. Los investigadores han seguido a miles de participantes durante décadas, recopilando datos sobre su salud, sus hábitos de vida y sus condiciones médicas.\n",
    "\n",
    "## Descripción de las variables\n",
    "\n",
    "* male: si es hombre o no (cateegorica)\n",
    "* education: nivel educativo (categorica)\n",
    "* currentSmoker: si fuma o no (categorica)\n",
    "* cigsPerDay: numero de cigarros que fuma por dia (continua)\n",
    "* BPMeds: si el paciente ha tomado medicamentos para la presion arterial (categorica)\n",
    "* prevalentStroke: si el paciente ha tenido un ACV (categorica)\n",
    "* prevalentHyp: si el paciente es hipertenso (cat)\n",
    "* diabetes: idem diabetes\n",
    "* totChol: nivel de colesterol (cont)\n",
    "* sysBP: presion arterial sistolica (cont)\n",
    "* diaBP: presion arterial diastolica (cont)\n",
    "* BMI: Indice de masa corporal (cont)\n",
    "* heartRate: frecuencia cardiaca (cont)\n",
    "* glucose: nivel de glucosa (cont)\n",
    "* TenYearCHD: Riesgo de 10 años de cardiopatía coronaria CHD (esta sera nuestra variable target)\n",
    "\n",
    "Es importante recordar que aunque los datos del estudio de Framingham han proporcionado muchas ideas valiosas sobre la enfermedad del corazón, los participantes en el estudio son predominantemente de raza blanca y de un área geográfica específica, por lo que los hallazgos pueden no ser generalizables a todas las poblaciones."
   ]
  },
  {
   "cell_type": "code",
   "execution_count": 1,
   "id": "087fa307-8288-421e-b360-60fbee75c54d",
   "metadata": {},
   "outputs": [],
   "source": [
    "import pandas as pd"
   ]
  },
  {
   "cell_type": "code",
   "execution_count": 2,
   "id": "8db8a402-3da1-4258-b85f-738127dc98d8",
   "metadata": {},
   "outputs": [
    {
     "data": {
      "text/html": [
       "<div>\n",
       "<style scoped>\n",
       "    .dataframe tbody tr th:only-of-type {\n",
       "        vertical-align: middle;\n",
       "    }\n",
       "\n",
       "    .dataframe tbody tr th {\n",
       "        vertical-align: top;\n",
       "    }\n",
       "\n",
       "    .dataframe thead th {\n",
       "        text-align: right;\n",
       "    }\n",
       "</style>\n",
       "<table border=\"1\" class=\"dataframe\">\n",
       "  <thead>\n",
       "    <tr style=\"text-align: right;\">\n",
       "      <th></th>\n",
       "      <th>male</th>\n",
       "      <th>age</th>\n",
       "      <th>education</th>\n",
       "      <th>currentSmoker</th>\n",
       "      <th>cigsPerDay</th>\n",
       "      <th>BPMeds</th>\n",
       "      <th>prevalentStroke</th>\n",
       "      <th>prevalentHyp</th>\n",
       "      <th>diabetes</th>\n",
       "      <th>totChol</th>\n",
       "      <th>sysBP</th>\n",
       "      <th>diaBP</th>\n",
       "      <th>BMI</th>\n",
       "      <th>heartRate</th>\n",
       "      <th>glucose</th>\n",
       "      <th>TenYearCHD</th>\n",
       "    </tr>\n",
       "  </thead>\n",
       "  <tbody>\n",
       "    <tr>\n",
       "      <th>0</th>\n",
       "      <td>1</td>\n",
       "      <td>39</td>\n",
       "      <td>4.0</td>\n",
       "      <td>0</td>\n",
       "      <td>0.0</td>\n",
       "      <td>0.0</td>\n",
       "      <td>0</td>\n",
       "      <td>0</td>\n",
       "      <td>0</td>\n",
       "      <td>195.0</td>\n",
       "      <td>106.0</td>\n",
       "      <td>70.0</td>\n",
       "      <td>26.97</td>\n",
       "      <td>80.0</td>\n",
       "      <td>77.0</td>\n",
       "      <td>0</td>\n",
       "    </tr>\n",
       "    <tr>\n",
       "      <th>1</th>\n",
       "      <td>0</td>\n",
       "      <td>46</td>\n",
       "      <td>2.0</td>\n",
       "      <td>0</td>\n",
       "      <td>0.0</td>\n",
       "      <td>0.0</td>\n",
       "      <td>0</td>\n",
       "      <td>0</td>\n",
       "      <td>0</td>\n",
       "      <td>250.0</td>\n",
       "      <td>121.0</td>\n",
       "      <td>81.0</td>\n",
       "      <td>28.73</td>\n",
       "      <td>95.0</td>\n",
       "      <td>76.0</td>\n",
       "      <td>0</td>\n",
       "    </tr>\n",
       "    <tr>\n",
       "      <th>2</th>\n",
       "      <td>1</td>\n",
       "      <td>48</td>\n",
       "      <td>1.0</td>\n",
       "      <td>1</td>\n",
       "      <td>20.0</td>\n",
       "      <td>0.0</td>\n",
       "      <td>0</td>\n",
       "      <td>0</td>\n",
       "      <td>0</td>\n",
       "      <td>245.0</td>\n",
       "      <td>127.5</td>\n",
       "      <td>80.0</td>\n",
       "      <td>25.34</td>\n",
       "      <td>75.0</td>\n",
       "      <td>70.0</td>\n",
       "      <td>0</td>\n",
       "    </tr>\n",
       "    <tr>\n",
       "      <th>3</th>\n",
       "      <td>0</td>\n",
       "      <td>61</td>\n",
       "      <td>3.0</td>\n",
       "      <td>1</td>\n",
       "      <td>30.0</td>\n",
       "      <td>0.0</td>\n",
       "      <td>0</td>\n",
       "      <td>1</td>\n",
       "      <td>0</td>\n",
       "      <td>225.0</td>\n",
       "      <td>150.0</td>\n",
       "      <td>95.0</td>\n",
       "      <td>28.58</td>\n",
       "      <td>65.0</td>\n",
       "      <td>103.0</td>\n",
       "      <td>1</td>\n",
       "    </tr>\n",
       "    <tr>\n",
       "      <th>4</th>\n",
       "      <td>0</td>\n",
       "      <td>46</td>\n",
       "      <td>3.0</td>\n",
       "      <td>1</td>\n",
       "      <td>23.0</td>\n",
       "      <td>0.0</td>\n",
       "      <td>0</td>\n",
       "      <td>0</td>\n",
       "      <td>0</td>\n",
       "      <td>285.0</td>\n",
       "      <td>130.0</td>\n",
       "      <td>84.0</td>\n",
       "      <td>23.10</td>\n",
       "      <td>85.0</td>\n",
       "      <td>85.0</td>\n",
       "      <td>0</td>\n",
       "    </tr>\n",
       "  </tbody>\n",
       "</table>\n",
       "</div>"
      ],
      "text/plain": [
       "   male  age  education  currentSmoker  cigsPerDay  BPMeds  prevalentStroke  \\\n",
       "0     1   39        4.0              0         0.0     0.0                0   \n",
       "1     0   46        2.0              0         0.0     0.0                0   \n",
       "2     1   48        1.0              1        20.0     0.0                0   \n",
       "3     0   61        3.0              1        30.0     0.0                0   \n",
       "4     0   46        3.0              1        23.0     0.0                0   \n",
       "\n",
       "   prevalentHyp  diabetes  totChol  sysBP  diaBP    BMI  heartRate  glucose  \\\n",
       "0             0         0    195.0  106.0   70.0  26.97       80.0     77.0   \n",
       "1             0         0    250.0  121.0   81.0  28.73       95.0     76.0   \n",
       "2             0         0    245.0  127.5   80.0  25.34       75.0     70.0   \n",
       "3             1         0    225.0  150.0   95.0  28.58       65.0    103.0   \n",
       "4             0         0    285.0  130.0   84.0  23.10       85.0     85.0   \n",
       "\n",
       "   TenYearCHD  \n",
       "0           0  \n",
       "1           0  \n",
       "2           0  \n",
       "3           1  \n",
       "4           0  "
      ]
     },
     "execution_count": 2,
     "metadata": {},
     "output_type": "execute_result"
    }
   ],
   "source": [
    "df = pd.read_csv('framingham.csv')\n",
    "df.head()"
   ]
  },
  {
   "cell_type": "markdown",
   "id": "c62d8d2f-689d-45b1-82e1-588f52682814",
   "metadata": {},
   "source": [
    "## Analisis exploratorio y pre-procesamiento de datos\n",
    "\n",
    "Acá se deben ver como se distirbuyen las variables, descartar las que estan correlacionadas entre si, y tratar los valores faltantes"
   ]
  },
  {
   "cell_type": "markdown",
   "id": "408fcfb5-d24b-4854-8278-d798bcdd926e",
   "metadata": {},
   "source": [
    "Por simplicidad y en vista de querer evitar posibles colinealidades, vamos a descartar algunas variables que parecen ser redundantes con otras. Por ejemplo, 0 cigarros por día es equivalente a que no fume. La presió diastólica por lo general está muy correlacionada con la sistólica, y las presión alta está determinada principalmente por esta última. La variable de glucosa se eliminará también, favorenciendo a la variable categórica de la prevalencia de diabetes. "
   ]
  },
  {
   "cell_type": "code",
   "execution_count": 3,
   "id": "8cb32e50-687a-4043-996c-1999f6a735d8",
   "metadata": {},
   "outputs": [],
   "source": [
    "df.drop(['currentSmoker','diaBP','glucose'], axis = 1, inplace = True)"
   ]
  },
  {
   "cell_type": "code",
   "execution_count": 4,
   "id": "db45eb83-56d1-4f4c-9529-b20a7fffbe9d",
   "metadata": {},
   "outputs": [
    {
     "name": "stdout",
     "output_type": "stream",
     "text": [
      "<class 'pandas.core.frame.DataFrame'>\n",
      "RangeIndex: 4238 entries, 0 to 4237\n",
      "Data columns (total 13 columns):\n",
      " #   Column           Non-Null Count  Dtype  \n",
      "---  ------           --------------  -----  \n",
      " 0   male             4238 non-null   int64  \n",
      " 1   age              4238 non-null   int64  \n",
      " 2   education        4133 non-null   float64\n",
      " 3   cigsPerDay       4209 non-null   float64\n",
      " 4   BPMeds           4185 non-null   float64\n",
      " 5   prevalentStroke  4238 non-null   int64  \n",
      " 6   prevalentHyp     4238 non-null   int64  \n",
      " 7   diabetes         4238 non-null   int64  \n",
      " 8   totChol          4188 non-null   float64\n",
      " 9   sysBP            4238 non-null   float64\n",
      " 10  BMI              4219 non-null   float64\n",
      " 11  heartRate        4237 non-null   float64\n",
      " 12  TenYearCHD       4238 non-null   int64  \n",
      "dtypes: float64(7), int64(6)\n",
      "memory usage: 430.5 KB\n"
     ]
    }
   ],
   "source": [
    "df.info()"
   ]
  },
  {
   "cell_type": "markdown",
   "id": "05957aa0-3f37-421e-af60-a528ac06ae28",
   "metadata": {},
   "source": [
    "Vamos a tratar los valores faltantes eliminándolos"
   ]
  },
  {
   "cell_type": "code",
   "execution_count": 5,
   "id": "b3afb1b0-b92c-40dc-979e-9db3fc62d937",
   "metadata": {},
   "outputs": [
    {
     "data": {
      "text/plain": [
       "male                 0\n",
       "age                  0\n",
       "education          105\n",
       "cigsPerDay          29\n",
       "BPMeds              53\n",
       "prevalentStroke      0\n",
       "prevalentHyp         0\n",
       "diabetes             0\n",
       "totChol             50\n",
       "sysBP                0\n",
       "BMI                 19\n",
       "heartRate            1\n",
       "TenYearCHD           0\n",
       "dtype: int64"
      ]
     },
     "execution_count": 5,
     "metadata": {},
     "output_type": "execute_result"
    }
   ],
   "source": [
    "df.isnull().sum()"
   ]
  },
  {
   "cell_type": "code",
   "execution_count": 6,
   "id": "f61fd069-d555-4d2d-a83f-b6381f3b966a",
   "metadata": {},
   "outputs": [
    {
     "data": {
      "text/plain": [
       "male               0\n",
       "age                0\n",
       "education          0\n",
       "cigsPerDay         0\n",
       "BPMeds             0\n",
       "prevalentStroke    0\n",
       "prevalentHyp       0\n",
       "diabetes           0\n",
       "totChol            0\n",
       "sysBP              0\n",
       "BMI                0\n",
       "heartRate          0\n",
       "TenYearCHD         0\n",
       "dtype: int64"
      ]
     },
     "execution_count": 6,
     "metadata": {},
     "output_type": "execute_result"
    }
   ],
   "source": [
    "df.dropna(inplace=True)\n",
    "df.isnull().sum()"
   ]
  },
  {
   "cell_type": "markdown",
   "id": "aa5661a4-676e-44e9-a8d1-495074fd4fd8",
   "metadata": {},
   "source": [
    "## Preparación de los datos para el modelo\n",
    "\n"
   ]
  },
  {
   "cell_type": "markdown",
   "id": "a2b41e72-2f47-46b9-a7d4-2b6aed60597a",
   "metadata": {},
   "source": [
    "Ahora, debemos tratar los atributos que son categóricos. Recordar que se debe borrar una categoría base para evitar la multicolinealidad perfecta o \"trampa de la variable dummy\". Esta vez lo haremos usando el argumento drop_first"
   ]
  },
  {
   "cell_type": "code",
   "execution_count": 7,
   "id": "7ed4ee49-8bdf-4851-a566-e9b77e45822a",
   "metadata": {},
   "outputs": [],
   "source": [
    "dummies_male = pd.get_dummies(df.male, drop_first=True) \n",
    "dummies_education = pd.get_dummies(df.education, drop_first=True)\n",
    "dummies_BPMeds = pd.get_dummies(df.BPMeds, drop_first=True)\n",
    "dummies_prevalentStroke= pd.get_dummies(df.prevalentStroke, drop_first=True)\n",
    "dummies_prevalentHyp = pd.get_dummies(df.prevalentHyp, drop_first=True)\n",
    "dummies_diabetes = pd.get_dummies(df.diabetes , drop_first=True)"
   ]
  },
  {
   "cell_type": "code",
   "execution_count": 8,
   "id": "7a3b184d-6cb1-4432-bdc0-0b7a7f37607d",
   "metadata": {},
   "outputs": [
    {
     "data": {
      "text/html": [
       "<div>\n",
       "<style scoped>\n",
       "    .dataframe tbody tr th:only-of-type {\n",
       "        vertical-align: middle;\n",
       "    }\n",
       "\n",
       "    .dataframe tbody tr th {\n",
       "        vertical-align: top;\n",
       "    }\n",
       "\n",
       "    .dataframe thead th {\n",
       "        text-align: right;\n",
       "    }\n",
       "</style>\n",
       "<table border=\"1\" class=\"dataframe\">\n",
       "  <thead>\n",
       "    <tr style=\"text-align: right;\">\n",
       "      <th></th>\n",
       "      <th>1</th>\n",
       "    </tr>\n",
       "  </thead>\n",
       "  <tbody>\n",
       "    <tr>\n",
       "      <th>0</th>\n",
       "      <td>1</td>\n",
       "    </tr>\n",
       "    <tr>\n",
       "      <th>1</th>\n",
       "      <td>0</td>\n",
       "    </tr>\n",
       "    <tr>\n",
       "      <th>2</th>\n",
       "      <td>1</td>\n",
       "    </tr>\n",
       "    <tr>\n",
       "      <th>3</th>\n",
       "      <td>0</td>\n",
       "    </tr>\n",
       "    <tr>\n",
       "      <th>4</th>\n",
       "      <td>0</td>\n",
       "    </tr>\n",
       "    <tr>\n",
       "      <th>...</th>\n",
       "      <td>...</td>\n",
       "    </tr>\n",
       "    <tr>\n",
       "      <th>4232</th>\n",
       "      <td>1</td>\n",
       "    </tr>\n",
       "    <tr>\n",
       "      <th>4233</th>\n",
       "      <td>1</td>\n",
       "    </tr>\n",
       "    <tr>\n",
       "      <th>4234</th>\n",
       "      <td>1</td>\n",
       "    </tr>\n",
       "    <tr>\n",
       "      <th>4236</th>\n",
       "      <td>0</td>\n",
       "    </tr>\n",
       "    <tr>\n",
       "      <th>4237</th>\n",
       "      <td>0</td>\n",
       "    </tr>\n",
       "  </tbody>\n",
       "</table>\n",
       "<p>3987 rows × 1 columns</p>\n",
       "</div>"
      ],
      "text/plain": [
       "      1\n",
       "0     1\n",
       "1     0\n",
       "2     1\n",
       "3     0\n",
       "4     0\n",
       "...  ..\n",
       "4232  1\n",
       "4233  1\n",
       "4234  1\n",
       "4236  0\n",
       "4237  0\n",
       "\n",
       "[3987 rows x 1 columns]"
      ]
     },
     "execution_count": 8,
     "metadata": {},
     "output_type": "execute_result"
    }
   ],
   "source": [
    "dummies_male"
   ]
  },
  {
   "cell_type": "code",
   "execution_count": 9,
   "id": "a8113dbe-1234-4699-8bf8-2ab323cb28d8",
   "metadata": {},
   "outputs": [
    {
     "data": {
      "text/html": [
       "<div>\n",
       "<style scoped>\n",
       "    .dataframe tbody tr th:only-of-type {\n",
       "        vertical-align: middle;\n",
       "    }\n",
       "\n",
       "    .dataframe tbody tr th {\n",
       "        vertical-align: top;\n",
       "    }\n",
       "\n",
       "    .dataframe thead th {\n",
       "        text-align: right;\n",
       "    }\n",
       "</style>\n",
       "<table border=\"1\" class=\"dataframe\">\n",
       "  <thead>\n",
       "    <tr style=\"text-align: right;\">\n",
       "      <th></th>\n",
       "      <th>2.0</th>\n",
       "      <th>3.0</th>\n",
       "      <th>4.0</th>\n",
       "    </tr>\n",
       "  </thead>\n",
       "  <tbody>\n",
       "    <tr>\n",
       "      <th>0</th>\n",
       "      <td>0</td>\n",
       "      <td>0</td>\n",
       "      <td>1</td>\n",
       "    </tr>\n",
       "    <tr>\n",
       "      <th>1</th>\n",
       "      <td>1</td>\n",
       "      <td>0</td>\n",
       "      <td>0</td>\n",
       "    </tr>\n",
       "    <tr>\n",
       "      <th>2</th>\n",
       "      <td>0</td>\n",
       "      <td>0</td>\n",
       "      <td>0</td>\n",
       "    </tr>\n",
       "    <tr>\n",
       "      <th>3</th>\n",
       "      <td>0</td>\n",
       "      <td>1</td>\n",
       "      <td>0</td>\n",
       "    </tr>\n",
       "    <tr>\n",
       "      <th>4</th>\n",
       "      <td>0</td>\n",
       "      <td>1</td>\n",
       "      <td>0</td>\n",
       "    </tr>\n",
       "    <tr>\n",
       "      <th>...</th>\n",
       "      <td>...</td>\n",
       "      <td>...</td>\n",
       "      <td>...</td>\n",
       "    </tr>\n",
       "    <tr>\n",
       "      <th>4232</th>\n",
       "      <td>0</td>\n",
       "      <td>0</td>\n",
       "      <td>0</td>\n",
       "    </tr>\n",
       "    <tr>\n",
       "      <th>4233</th>\n",
       "      <td>0</td>\n",
       "      <td>0</td>\n",
       "      <td>0</td>\n",
       "    </tr>\n",
       "    <tr>\n",
       "      <th>4234</th>\n",
       "      <td>0</td>\n",
       "      <td>1</td>\n",
       "      <td>0</td>\n",
       "    </tr>\n",
       "    <tr>\n",
       "      <th>4236</th>\n",
       "      <td>0</td>\n",
       "      <td>0</td>\n",
       "      <td>0</td>\n",
       "    </tr>\n",
       "    <tr>\n",
       "      <th>4237</th>\n",
       "      <td>1</td>\n",
       "      <td>0</td>\n",
       "      <td>0</td>\n",
       "    </tr>\n",
       "  </tbody>\n",
       "</table>\n",
       "<p>3987 rows × 3 columns</p>\n",
       "</div>"
      ],
      "text/plain": [
       "      2.0  3.0  4.0\n",
       "0       0    0    1\n",
       "1       1    0    0\n",
       "2       0    0    0\n",
       "3       0    1    0\n",
       "4       0    1    0\n",
       "...   ...  ...  ...\n",
       "4232    0    0    0\n",
       "4233    0    0    0\n",
       "4234    0    1    0\n",
       "4236    0    0    0\n",
       "4237    1    0    0\n",
       "\n",
       "[3987 rows x 3 columns]"
      ]
     },
     "execution_count": 9,
     "metadata": {},
     "output_type": "execute_result"
    }
   ],
   "source": [
    "dummies_education"
   ]
  },
  {
   "cell_type": "code",
   "execution_count": 10,
   "id": "f3869ea4-3da5-48b5-904e-2ce238798126",
   "metadata": {},
   "outputs": [
    {
     "data": {
      "text/html": [
       "<div>\n",
       "<style scoped>\n",
       "    .dataframe tbody tr th:only-of-type {\n",
       "        vertical-align: middle;\n",
       "    }\n",
       "\n",
       "    .dataframe tbody tr th {\n",
       "        vertical-align: top;\n",
       "    }\n",
       "\n",
       "    .dataframe thead th {\n",
       "        text-align: right;\n",
       "    }\n",
       "</style>\n",
       "<table border=\"1\" class=\"dataframe\">\n",
       "  <thead>\n",
       "    <tr style=\"text-align: right;\">\n",
       "      <th></th>\n",
       "      <th>1.0</th>\n",
       "    </tr>\n",
       "  </thead>\n",
       "  <tbody>\n",
       "    <tr>\n",
       "      <th>0</th>\n",
       "      <td>0</td>\n",
       "    </tr>\n",
       "    <tr>\n",
       "      <th>1</th>\n",
       "      <td>0</td>\n",
       "    </tr>\n",
       "    <tr>\n",
       "      <th>2</th>\n",
       "      <td>0</td>\n",
       "    </tr>\n",
       "    <tr>\n",
       "      <th>3</th>\n",
       "      <td>0</td>\n",
       "    </tr>\n",
       "    <tr>\n",
       "      <th>4</th>\n",
       "      <td>0</td>\n",
       "    </tr>\n",
       "    <tr>\n",
       "      <th>...</th>\n",
       "      <td>...</td>\n",
       "    </tr>\n",
       "    <tr>\n",
       "      <th>4232</th>\n",
       "      <td>0</td>\n",
       "    </tr>\n",
       "    <tr>\n",
       "      <th>4233</th>\n",
       "      <td>0</td>\n",
       "    </tr>\n",
       "    <tr>\n",
       "      <th>4234</th>\n",
       "      <td>0</td>\n",
       "    </tr>\n",
       "    <tr>\n",
       "      <th>4236</th>\n",
       "      <td>0</td>\n",
       "    </tr>\n",
       "    <tr>\n",
       "      <th>4237</th>\n",
       "      <td>0</td>\n",
       "    </tr>\n",
       "  </tbody>\n",
       "</table>\n",
       "<p>3987 rows × 1 columns</p>\n",
       "</div>"
      ],
      "text/plain": [
       "      1.0\n",
       "0       0\n",
       "1       0\n",
       "2       0\n",
       "3       0\n",
       "4       0\n",
       "...   ...\n",
       "4232    0\n",
       "4233    0\n",
       "4234    0\n",
       "4236    0\n",
       "4237    0\n",
       "\n",
       "[3987 rows x 1 columns]"
      ]
     },
     "execution_count": 10,
     "metadata": {},
     "output_type": "execute_result"
    }
   ],
   "source": [
    "dummies_BPMeds"
   ]
  },
  {
   "cell_type": "code",
   "execution_count": 11,
   "id": "09f510ae-2285-40d9-90be-5dcab346cc95",
   "metadata": {},
   "outputs": [
    {
     "data": {
      "text/html": [
       "<div>\n",
       "<style scoped>\n",
       "    .dataframe tbody tr th:only-of-type {\n",
       "        vertical-align: middle;\n",
       "    }\n",
       "\n",
       "    .dataframe tbody tr th {\n",
       "        vertical-align: top;\n",
       "    }\n",
       "\n",
       "    .dataframe thead th {\n",
       "        text-align: right;\n",
       "    }\n",
       "</style>\n",
       "<table border=\"1\" class=\"dataframe\">\n",
       "  <thead>\n",
       "    <tr style=\"text-align: right;\">\n",
       "      <th></th>\n",
       "      <th>1</th>\n",
       "    </tr>\n",
       "  </thead>\n",
       "  <tbody>\n",
       "    <tr>\n",
       "      <th>0</th>\n",
       "      <td>0</td>\n",
       "    </tr>\n",
       "    <tr>\n",
       "      <th>1</th>\n",
       "      <td>0</td>\n",
       "    </tr>\n",
       "    <tr>\n",
       "      <th>2</th>\n",
       "      <td>0</td>\n",
       "    </tr>\n",
       "    <tr>\n",
       "      <th>3</th>\n",
       "      <td>0</td>\n",
       "    </tr>\n",
       "    <tr>\n",
       "      <th>4</th>\n",
       "      <td>0</td>\n",
       "    </tr>\n",
       "    <tr>\n",
       "      <th>...</th>\n",
       "      <td>...</td>\n",
       "    </tr>\n",
       "    <tr>\n",
       "      <th>4232</th>\n",
       "      <td>0</td>\n",
       "    </tr>\n",
       "    <tr>\n",
       "      <th>4233</th>\n",
       "      <td>0</td>\n",
       "    </tr>\n",
       "    <tr>\n",
       "      <th>4234</th>\n",
       "      <td>0</td>\n",
       "    </tr>\n",
       "    <tr>\n",
       "      <th>4236</th>\n",
       "      <td>0</td>\n",
       "    </tr>\n",
       "    <tr>\n",
       "      <th>4237</th>\n",
       "      <td>0</td>\n",
       "    </tr>\n",
       "  </tbody>\n",
       "</table>\n",
       "<p>3987 rows × 1 columns</p>\n",
       "</div>"
      ],
      "text/plain": [
       "      1\n",
       "0     0\n",
       "1     0\n",
       "2     0\n",
       "3     0\n",
       "4     0\n",
       "...  ..\n",
       "4232  0\n",
       "4233  0\n",
       "4234  0\n",
       "4236  0\n",
       "4237  0\n",
       "\n",
       "[3987 rows x 1 columns]"
      ]
     },
     "execution_count": 11,
     "metadata": {},
     "output_type": "execute_result"
    }
   ],
   "source": [
    "dummies_prevalentStroke"
   ]
  },
  {
   "cell_type": "markdown",
   "id": "29f21897-d653-4c1c-b97d-21f9e5664511",
   "metadata": {},
   "source": [
    "**Nota**: **one-hot** encoding tambien se puede usar"
   ]
  },
  {
   "cell_type": "markdown",
   "id": "9d3bbd85-970e-4602-b3c3-e25e0ae3c2a3",
   "metadata": {},
   "source": [
    "Para evitar confusiones a la hora de interpretar el output del modelo, cambiamos los nombres de la columna dummie"
   ]
  },
  {
   "cell_type": "code",
   "execution_count": 12,
   "id": "4ca33567-bc0f-4d8b-aad2-ab9ceb14fa7f",
   "metadata": {},
   "outputs": [],
   "source": [
    "dummies_male.columns = ['male']\n",
    "dummies_education.columns = ['educ_2','educ_3','educ_4']\n",
    "dummies_BPMeds.columns = ['prev_BPMeds']\n",
    "dummies_prevalentStroke.columns = ['prev_stroke']\n",
    "dummies_prevalentHyp.columns = ['prev_hyp']\n",
    "dummies_diabetes.columns = ['prev_diabetes']"
   ]
  },
  {
   "cell_type": "markdown",
   "id": "89d6473f-bf58-4335-981b-1e503080e600",
   "metadata": {},
   "source": [
    "Ahora, empezamos a construir las matrices de atributos y de respuesta del modelo"
   ]
  },
  {
   "cell_type": "code",
   "execution_count": 13,
   "id": "0ebe34d9-4a15-413a-9496-654509c77787",
   "metadata": {},
   "outputs": [
    {
     "data": {
      "text/html": [
       "<div>\n",
       "<style scoped>\n",
       "    .dataframe tbody tr th:only-of-type {\n",
       "        vertical-align: middle;\n",
       "    }\n",
       "\n",
       "    .dataframe tbody tr th {\n",
       "        vertical-align: top;\n",
       "    }\n",
       "\n",
       "    .dataframe thead th {\n",
       "        text-align: right;\n",
       "    }\n",
       "</style>\n",
       "<table border=\"1\" class=\"dataframe\">\n",
       "  <thead>\n",
       "    <tr style=\"text-align: right;\">\n",
       "      <th></th>\n",
       "      <th>age</th>\n",
       "      <th>cigsPerDay</th>\n",
       "      <th>totChol</th>\n",
       "      <th>sysBP</th>\n",
       "      <th>BMI</th>\n",
       "      <th>heartRate</th>\n",
       "      <th>male</th>\n",
       "      <th>educ_2</th>\n",
       "      <th>educ_3</th>\n",
       "      <th>educ_4</th>\n",
       "      <th>prev_BPMeds</th>\n",
       "      <th>prev_stroke</th>\n",
       "      <th>prev_hyp</th>\n",
       "      <th>prev_diabetes</th>\n",
       "    </tr>\n",
       "  </thead>\n",
       "  <tbody>\n",
       "    <tr>\n",
       "      <th>0</th>\n",
       "      <td>39</td>\n",
       "      <td>0.0</td>\n",
       "      <td>195.0</td>\n",
       "      <td>106.0</td>\n",
       "      <td>26.97</td>\n",
       "      <td>80.0</td>\n",
       "      <td>1</td>\n",
       "      <td>0</td>\n",
       "      <td>0</td>\n",
       "      <td>1</td>\n",
       "      <td>0</td>\n",
       "      <td>0</td>\n",
       "      <td>0</td>\n",
       "      <td>0</td>\n",
       "    </tr>\n",
       "    <tr>\n",
       "      <th>1</th>\n",
       "      <td>46</td>\n",
       "      <td>0.0</td>\n",
       "      <td>250.0</td>\n",
       "      <td>121.0</td>\n",
       "      <td>28.73</td>\n",
       "      <td>95.0</td>\n",
       "      <td>0</td>\n",
       "      <td>1</td>\n",
       "      <td>0</td>\n",
       "      <td>0</td>\n",
       "      <td>0</td>\n",
       "      <td>0</td>\n",
       "      <td>0</td>\n",
       "      <td>0</td>\n",
       "    </tr>\n",
       "    <tr>\n",
       "      <th>2</th>\n",
       "      <td>48</td>\n",
       "      <td>20.0</td>\n",
       "      <td>245.0</td>\n",
       "      <td>127.5</td>\n",
       "      <td>25.34</td>\n",
       "      <td>75.0</td>\n",
       "      <td>1</td>\n",
       "      <td>0</td>\n",
       "      <td>0</td>\n",
       "      <td>0</td>\n",
       "      <td>0</td>\n",
       "      <td>0</td>\n",
       "      <td>0</td>\n",
       "      <td>0</td>\n",
       "    </tr>\n",
       "    <tr>\n",
       "      <th>3</th>\n",
       "      <td>61</td>\n",
       "      <td>30.0</td>\n",
       "      <td>225.0</td>\n",
       "      <td>150.0</td>\n",
       "      <td>28.58</td>\n",
       "      <td>65.0</td>\n",
       "      <td>0</td>\n",
       "      <td>0</td>\n",
       "      <td>1</td>\n",
       "      <td>0</td>\n",
       "      <td>0</td>\n",
       "      <td>0</td>\n",
       "      <td>1</td>\n",
       "      <td>0</td>\n",
       "    </tr>\n",
       "    <tr>\n",
       "      <th>4</th>\n",
       "      <td>46</td>\n",
       "      <td>23.0</td>\n",
       "      <td>285.0</td>\n",
       "      <td>130.0</td>\n",
       "      <td>23.10</td>\n",
       "      <td>85.0</td>\n",
       "      <td>0</td>\n",
       "      <td>0</td>\n",
       "      <td>1</td>\n",
       "      <td>0</td>\n",
       "      <td>0</td>\n",
       "      <td>0</td>\n",
       "      <td>0</td>\n",
       "      <td>0</td>\n",
       "    </tr>\n",
       "    <tr>\n",
       "      <th>...</th>\n",
       "      <td>...</td>\n",
       "      <td>...</td>\n",
       "      <td>...</td>\n",
       "      <td>...</td>\n",
       "      <td>...</td>\n",
       "      <td>...</td>\n",
       "      <td>...</td>\n",
       "      <td>...</td>\n",
       "      <td>...</td>\n",
       "      <td>...</td>\n",
       "      <td>...</td>\n",
       "      <td>...</td>\n",
       "      <td>...</td>\n",
       "      <td>...</td>\n",
       "    </tr>\n",
       "    <tr>\n",
       "      <th>4232</th>\n",
       "      <td>68</td>\n",
       "      <td>0.0</td>\n",
       "      <td>176.0</td>\n",
       "      <td>168.0</td>\n",
       "      <td>23.14</td>\n",
       "      <td>60.0</td>\n",
       "      <td>1</td>\n",
       "      <td>0</td>\n",
       "      <td>0</td>\n",
       "      <td>0</td>\n",
       "      <td>0</td>\n",
       "      <td>0</td>\n",
       "      <td>1</td>\n",
       "      <td>0</td>\n",
       "    </tr>\n",
       "    <tr>\n",
       "      <th>4233</th>\n",
       "      <td>50</td>\n",
       "      <td>1.0</td>\n",
       "      <td>313.0</td>\n",
       "      <td>179.0</td>\n",
       "      <td>25.97</td>\n",
       "      <td>66.0</td>\n",
       "      <td>1</td>\n",
       "      <td>0</td>\n",
       "      <td>0</td>\n",
       "      <td>0</td>\n",
       "      <td>0</td>\n",
       "      <td>0</td>\n",
       "      <td>1</td>\n",
       "      <td>0</td>\n",
       "    </tr>\n",
       "    <tr>\n",
       "      <th>4234</th>\n",
       "      <td>51</td>\n",
       "      <td>43.0</td>\n",
       "      <td>207.0</td>\n",
       "      <td>126.5</td>\n",
       "      <td>19.71</td>\n",
       "      <td>65.0</td>\n",
       "      <td>1</td>\n",
       "      <td>0</td>\n",
       "      <td>1</td>\n",
       "      <td>0</td>\n",
       "      <td>0</td>\n",
       "      <td>0</td>\n",
       "      <td>0</td>\n",
       "      <td>0</td>\n",
       "    </tr>\n",
       "    <tr>\n",
       "      <th>4236</th>\n",
       "      <td>44</td>\n",
       "      <td>15.0</td>\n",
       "      <td>210.0</td>\n",
       "      <td>126.5</td>\n",
       "      <td>19.16</td>\n",
       "      <td>86.0</td>\n",
       "      <td>0</td>\n",
       "      <td>0</td>\n",
       "      <td>0</td>\n",
       "      <td>0</td>\n",
       "      <td>0</td>\n",
       "      <td>0</td>\n",
       "      <td>0</td>\n",
       "      <td>0</td>\n",
       "    </tr>\n",
       "    <tr>\n",
       "      <th>4237</th>\n",
       "      <td>52</td>\n",
       "      <td>0.0</td>\n",
       "      <td>269.0</td>\n",
       "      <td>133.5</td>\n",
       "      <td>21.47</td>\n",
       "      <td>80.0</td>\n",
       "      <td>0</td>\n",
       "      <td>1</td>\n",
       "      <td>0</td>\n",
       "      <td>0</td>\n",
       "      <td>0</td>\n",
       "      <td>0</td>\n",
       "      <td>0</td>\n",
       "      <td>0</td>\n",
       "    </tr>\n",
       "  </tbody>\n",
       "</table>\n",
       "<p>3987 rows × 14 columns</p>\n",
       "</div>"
      ],
      "text/plain": [
       "      age  cigsPerDay  totChol  sysBP    BMI  heartRate  male  educ_2  educ_3  \\\n",
       "0      39         0.0    195.0  106.0  26.97       80.0     1       0       0   \n",
       "1      46         0.0    250.0  121.0  28.73       95.0     0       1       0   \n",
       "2      48        20.0    245.0  127.5  25.34       75.0     1       0       0   \n",
       "3      61        30.0    225.0  150.0  28.58       65.0     0       0       1   \n",
       "4      46        23.0    285.0  130.0  23.10       85.0     0       0       1   \n",
       "...   ...         ...      ...    ...    ...        ...   ...     ...     ...   \n",
       "4232   68         0.0    176.0  168.0  23.14       60.0     1       0       0   \n",
       "4233   50         1.0    313.0  179.0  25.97       66.0     1       0       0   \n",
       "4234   51        43.0    207.0  126.5  19.71       65.0     1       0       1   \n",
       "4236   44        15.0    210.0  126.5  19.16       86.0     0       0       0   \n",
       "4237   52         0.0    269.0  133.5  21.47       80.0     0       1       0   \n",
       "\n",
       "      educ_4  prev_BPMeds  prev_stroke  prev_hyp  prev_diabetes  \n",
       "0          1            0            0         0              0  \n",
       "1          0            0            0         0              0  \n",
       "2          0            0            0         0              0  \n",
       "3          0            0            0         1              0  \n",
       "4          0            0            0         0              0  \n",
       "...      ...          ...          ...       ...            ...  \n",
       "4232       0            0            0         1              0  \n",
       "4233       0            0            0         1              0  \n",
       "4234       0            0            0         0              0  \n",
       "4236       0            0            0         0              0  \n",
       "4237       0            0            0         0              0  \n",
       "\n",
       "[3987 rows x 14 columns]"
      ]
     },
     "execution_count": 13,
     "metadata": {},
     "output_type": "execute_result"
    }
   ],
   "source": [
    "X = df.drop(['male','education','BPMeds','prevalentStroke','prevalentHyp','diabetes','TenYearCHD'],axis=1)\n",
    "X = pd.concat([X, dummies_male, dummies_education,dummies_BPMeds, dummies_prevalentStroke,dummies_prevalentHyp, dummies_diabetes], axis =1)\n",
    "X"
   ]
  },
  {
   "cell_type": "code",
   "execution_count": 14,
   "id": "e7de41ad-1a8f-423c-96cf-4a757baf596a",
   "metadata": {},
   "outputs": [
    {
     "data": {
      "text/plain": [
       "0       0\n",
       "1       0\n",
       "2       0\n",
       "3       1\n",
       "4       0\n",
       "       ..\n",
       "4232    1\n",
       "4233    1\n",
       "4234    0\n",
       "4236    0\n",
       "4237    0\n",
       "Name: TenYearCHD, Length: 3987, dtype: int64"
      ]
     },
     "execution_count": 14,
     "metadata": {},
     "output_type": "execute_result"
    }
   ],
   "source": [
    "y = df['TenYearCHD']\n",
    "y"
   ]
  },
  {
   "cell_type": "markdown",
   "id": "f4301065-af15-4fbd-9b4f-f046eda61e66",
   "metadata": {},
   "source": [
    "Ahora separamos entre entrenamiento y prueba"
   ]
  },
  {
   "cell_type": "code",
   "execution_count": 15,
   "id": "0a3bfdd8-663d-424a-8a02-6629ec69a0f7",
   "metadata": {},
   "outputs": [],
   "source": [
    "from sklearn.model_selection import train_test_split\n",
    "X_train, X_test, y_train, y_test = train_test_split(X, y, test_size = 0.2, random_state = 0)"
   ]
  },
  {
   "cell_type": "markdown",
   "id": "084faf43-e980-4912-9e2f-e51151b7365f",
   "metadata": {},
   "source": [
    "Y ahora normalizamos la data (advertenecia: si este paso no se hace, saldrá una advertencia adelante: que el modelo no converge y se necesita aumentar el numero de iteraciones o bien, normalizar los datos, haga la prueba!)"
   ]
  },
  {
   "cell_type": "code",
   "execution_count": 16,
   "id": "3aa77d28-fbaf-4e45-928f-7e1e39b839b4",
   "metadata": {},
   "outputs": [],
   "source": [
    "from sklearn.preprocessing import MinMaxScaler\n",
    "\n",
    "scaler = MinMaxScaler()\n",
    "\n",
    "X_train = scaler.fit_transform(X_train)\n",
    "\n",
    "X_test = scaler.transform(X_test)"
   ]
  },
  {
   "cell_type": "markdown",
   "id": "7f165b15-6da7-405b-a6b4-fc2a413be37e",
   "metadata": {},
   "source": [
    "## Ajuste y predicción\n",
    "\n",
    "El clásico fit y predict "
   ]
  },
  {
   "cell_type": "code",
   "execution_count": 17,
   "id": "f61ee981-f962-47ac-8122-391e17dfe4db",
   "metadata": {},
   "outputs": [],
   "source": [
    "from sklearn.linear_model import LogisticRegression\n",
    "\n",
    "model = LogisticRegression()\n",
    "model.fit(X_train,y_train)\n",
    "\n",
    "y_pred = model.predict(X_test)"
   ]
  },
  {
   "cell_type": "markdown",
   "id": "fb78ec4c-a6cd-4ac0-b652-20af9ec8ffcb",
   "metadata": {},
   "source": [
    "Imprimimos los coeficientes."
   ]
  },
  {
   "cell_type": "code",
   "execution_count": 18,
   "id": "b8fccb50-64fc-4d38-a1af-d332718cede4",
   "metadata": {},
   "outputs": [
    {
     "name": "stdout",
     "output_type": "stream",
     "text": [
      "Coeficientes : [[ 2.29270643  1.42863442  0.53267149  2.13206636  0.51090979 -0.13327239\n",
      "   0.47125351 -0.23719787 -0.23404044 -0.17187802  0.48168934  0.72377341\n",
      "   0.24103246  0.80993564]]\n",
      "Sesgo : [-4.11317878]\n"
     ]
    }
   ],
   "source": [
    "print(f'Coeficientes : {model.coef_}')\n",
    "print(f'Sesgo : {model.intercept_}')"
   ]
  },
  {
   "cell_type": "code",
   "execution_count": 19,
   "id": "5b9b5590-4a7a-4556-a8c8-27b6986bf579",
   "metadata": {},
   "outputs": [
    {
     "data": {
      "text/plain": [
       "Index(['age', 'cigsPerDay', 'totChol', 'sysBP', 'BMI', 'heartRate', 'male',\n",
       "       'educ_2', 'educ_3', 'educ_4', 'prev_BPMeds', 'prev_stroke', 'prev_hyp',\n",
       "       'prev_diabetes'],\n",
       "      dtype='object')"
      ]
     },
     "execution_count": 19,
     "metadata": {},
     "output_type": "execute_result"
    }
   ],
   "source": [
    "X.columns"
   ]
  },
  {
   "cell_type": "code",
   "execution_count": 20,
   "id": "60691ce0-1387-4540-96df-6e61d1d220e1",
   "metadata": {},
   "outputs": [
    {
     "data": {
      "text/html": [
       "<div>\n",
       "<style scoped>\n",
       "    .dataframe tbody tr th:only-of-type {\n",
       "        vertical-align: middle;\n",
       "    }\n",
       "\n",
       "    .dataframe tbody tr th {\n",
       "        vertical-align: top;\n",
       "    }\n",
       "\n",
       "    .dataframe thead th {\n",
       "        text-align: right;\n",
       "    }\n",
       "</style>\n",
       "<table border=\"1\" class=\"dataframe\">\n",
       "  <thead>\n",
       "    <tr style=\"text-align: right;\">\n",
       "      <th></th>\n",
       "      <th>age</th>\n",
       "      <th>cigsPerDay</th>\n",
       "      <th>totChol</th>\n",
       "      <th>sysBP</th>\n",
       "      <th>BMI</th>\n",
       "      <th>heartRate</th>\n",
       "      <th>male</th>\n",
       "      <th>educ_2</th>\n",
       "      <th>educ_3</th>\n",
       "      <th>educ_4</th>\n",
       "      <th>prev_BPMeds</th>\n",
       "      <th>prev_stroke</th>\n",
       "      <th>prev_hyp</th>\n",
       "      <th>prev_diabetes</th>\n",
       "    </tr>\n",
       "  </thead>\n",
       "  <tbody>\n",
       "    <tr>\n",
       "      <th>0</th>\n",
       "      <td>2.292706</td>\n",
       "      <td>1.428634</td>\n",
       "      <td>0.532671</td>\n",
       "      <td>2.132066</td>\n",
       "      <td>0.51091</td>\n",
       "      <td>-0.133272</td>\n",
       "      <td>0.471254</td>\n",
       "      <td>-0.237198</td>\n",
       "      <td>-0.23404</td>\n",
       "      <td>-0.171878</td>\n",
       "      <td>0.481689</td>\n",
       "      <td>0.723773</td>\n",
       "      <td>0.241032</td>\n",
       "      <td>0.809936</td>\n",
       "    </tr>\n",
       "  </tbody>\n",
       "</table>\n",
       "</div>"
      ],
      "text/plain": [
       "        age  cigsPerDay   totChol     sysBP      BMI  heartRate      male  \\\n",
       "0  2.292706    1.428634  0.532671  2.132066  0.51091  -0.133272  0.471254   \n",
       "\n",
       "     educ_2   educ_3    educ_4  prev_BPMeds  prev_stroke  prev_hyp  \\\n",
       "0 -0.237198 -0.23404 -0.171878     0.481689     0.723773  0.241032   \n",
       "\n",
       "   prev_diabetes  \n",
       "0       0.809936  "
      ]
     },
     "execution_count": 20,
     "metadata": {},
     "output_type": "execute_result"
    }
   ],
   "source": [
    "pd.DataFrame(model.coef_, columns =X.columns )"
   ]
  },
  {
   "cell_type": "markdown",
   "id": "6cd8dee0-41c9-4711-925f-e99d84806929",
   "metadata": {},
   "source": [
    "Obtenemos los odd ratios a partir de la exponencial de los coeficientes. Recordar que los valores mayores 1 influye positivamente en la probabilidad del target (enfermedad coronaria)"
   ]
  },
  {
   "cell_type": "code",
   "execution_count": 21,
   "id": "2b45b6f3-ef6e-4b01-a104-cccf8eb1dade",
   "metadata": {},
   "outputs": [
    {
     "data": {
      "text/html": [
       "<div>\n",
       "<style scoped>\n",
       "    .dataframe tbody tr th:only-of-type {\n",
       "        vertical-align: middle;\n",
       "    }\n",
       "\n",
       "    .dataframe tbody tr th {\n",
       "        vertical-align: top;\n",
       "    }\n",
       "\n",
       "    .dataframe thead th {\n",
       "        text-align: right;\n",
       "    }\n",
       "</style>\n",
       "<table border=\"1\" class=\"dataframe\">\n",
       "  <thead>\n",
       "    <tr style=\"text-align: right;\">\n",
       "      <th></th>\n",
       "      <th>age</th>\n",
       "      <th>cigsPerDay</th>\n",
       "      <th>totChol</th>\n",
       "      <th>sysBP</th>\n",
       "      <th>BMI</th>\n",
       "      <th>heartRate</th>\n",
       "      <th>male</th>\n",
       "      <th>educ_2</th>\n",
       "      <th>educ_3</th>\n",
       "      <th>educ_4</th>\n",
       "      <th>prev_BPMeds</th>\n",
       "      <th>prev_stroke</th>\n",
       "      <th>prev_hyp</th>\n",
       "      <th>prev_diabetes</th>\n",
       "    </tr>\n",
       "  </thead>\n",
       "  <tbody>\n",
       "    <tr>\n",
       "      <th>0</th>\n",
       "      <td>9.9017</td>\n",
       "      <td>4.172997</td>\n",
       "      <td>1.703477</td>\n",
       "      <td>8.432273</td>\n",
       "      <td>1.666807</td>\n",
       "      <td>0.875227</td>\n",
       "      <td>1.602001</td>\n",
       "      <td>0.788835</td>\n",
       "      <td>0.79133</td>\n",
       "      <td>0.842082</td>\n",
       "      <td>1.618807</td>\n",
       "      <td>2.0622</td>\n",
       "      <td>1.272562</td>\n",
       "      <td>2.247763</td>\n",
       "    </tr>\n",
       "  </tbody>\n",
       "</table>\n",
       "</div>"
      ],
      "text/plain": [
       "      age  cigsPerDay   totChol     sysBP       BMI  heartRate      male  \\\n",
       "0  9.9017    4.172997  1.703477  8.432273  1.666807   0.875227  1.602001   \n",
       "\n",
       "     educ_2   educ_3    educ_4  prev_BPMeds  prev_stroke  prev_hyp  \\\n",
       "0  0.788835  0.79133  0.842082     1.618807       2.0622  1.272562   \n",
       "\n",
       "   prev_diabetes  \n",
       "0       2.247763  "
      ]
     },
     "execution_count": 21,
     "metadata": {},
     "output_type": "execute_result"
    }
   ],
   "source": [
    "import numpy as np\n",
    "pd.DataFrame(np.exp(model.coef_), columns =X.columns )"
   ]
  },
  {
   "cell_type": "markdown",
   "id": "a2aa91eb-dc6e-4ef4-a629-7025bda15b12",
   "metadata": {},
   "source": [
    "¿Cómo anda el sobreajuste?"
   ]
  },
  {
   "cell_type": "code",
   "execution_count": 22,
   "id": "48dc6471-ca9d-471c-a5e1-18d0424b78f1",
   "metadata": {},
   "outputs": [
    {
     "name": "stdout",
     "output_type": "stream",
     "text": [
      "Test accuracy: 0.8521303258145363\n",
      "Train accuracy: 0.8551269990592663\n"
     ]
    }
   ],
   "source": [
    "print(f'Test accuracy: {model.score(X_test,y_test)}')\n",
    "print(f'Train accuracy: {model.score(X_train,y_train)}')"
   ]
  },
  {
   "cell_type": "markdown",
   "id": "7538ff92-3a9d-4673-9d89-4879202d59c3",
   "metadata": {},
   "source": [
    "## Evaluación\n",
    "\n",
    "Calcular metricas de evaluacion, ROC y AUC"
   ]
  },
  {
   "cell_type": "code",
   "execution_count": 23,
   "id": "906ff30d-de0f-4e5e-84b3-7b351adacfcb",
   "metadata": {},
   "outputs": [
    {
     "data": {
      "text/html": [
       "<div>\n",
       "<style scoped>\n",
       "    .dataframe tbody tr th:only-of-type {\n",
       "        vertical-align: middle;\n",
       "    }\n",
       "\n",
       "    .dataframe tbody tr th {\n",
       "        vertical-align: top;\n",
       "    }\n",
       "\n",
       "    .dataframe thead th {\n",
       "        text-align: right;\n",
       "    }\n",
       "</style>\n",
       "<table border=\"1\" class=\"dataframe\">\n",
       "  <thead>\n",
       "    <tr style=\"text-align: right;\">\n",
       "      <th></th>\n",
       "      <th>Predicted Positive</th>\n",
       "      <th>Predicted Negative</th>\n",
       "    </tr>\n",
       "  </thead>\n",
       "  <tbody>\n",
       "    <tr>\n",
       "      <th>Actual Positive</th>\n",
       "      <td>673</td>\n",
       "      <td>7</td>\n",
       "    </tr>\n",
       "    <tr>\n",
       "      <th>Actual Negative</th>\n",
       "      <td>111</td>\n",
       "      <td>7</td>\n",
       "    </tr>\n",
       "  </tbody>\n",
       "</table>\n",
       "</div>"
      ],
      "text/plain": [
       "                 Predicted Positive  Predicted Negative\n",
       "Actual Positive                 673                   7\n",
       "Actual Negative                 111                   7"
      ]
     },
     "execution_count": 23,
     "metadata": {},
     "output_type": "execute_result"
    }
   ],
   "source": [
    "from sklearn.metrics import confusion_matrix\n",
    "\n",
    "matriz_confusion = pd.DataFrame(confusion_matrix(y_test, y_pred), columns = ['Predicted Positive', 'Predicted Negative'], \n",
    "                  index=['Actual Positive', 'Actual Negative'])\n",
    "matriz_confusion"
   ]
  },
  {
   "cell_type": "code",
   "execution_count": 24,
   "id": "5687aea7-df2a-4a10-ab8d-1d3a2d889a1c",
   "metadata": {},
   "outputs": [
    {
     "name": "stdout",
     "output_type": "stream",
     "text": [
      "              precision    recall  f1-score   support\n",
      "\n",
      "           0       0.86      0.99      0.92       680\n",
      "           1       0.50      0.06      0.11       118\n",
      "\n",
      "    accuracy                           0.85       798\n",
      "   macro avg       0.68      0.52      0.51       798\n",
      "weighted avg       0.81      0.85      0.80       798\n",
      "\n"
     ]
    }
   ],
   "source": [
    "from sklearn.metrics import classification_report\n",
    "\n",
    "print(classification_report(y_test, y_pred))"
   ]
  },
  {
   "cell_type": "code",
   "execution_count": 25,
   "id": "5ce659cd-a0d3-4975-8a86-c23db6f90c05",
   "metadata": {},
   "outputs": [
    {
     "name": "stdout",
     "output_type": "stream",
     "text": [
      "Accuracy: 0.8521303258145363\n",
      "Precision: 0.5\n",
      "Recall: 0.059322033898305086\n",
      "F1 Score: 0.10606060606060608\n"
     ]
    }
   ],
   "source": [
    "from sklearn.metrics import accuracy_score, precision_score, recall_score, f1_score\n",
    "\n",
    "print(\"Accuracy:\", accuracy_score(y_test,y_pred))\n",
    "print(\"Precision:\", precision_score(y_test, y_pred, ))\n",
    "print(\"Recall:\", recall_score(y_test,y_pred))\n",
    "print(\"F1 Score:\", f1_score(y_test,y_pred))"
   ]
  },
  {
   "cell_type": "code",
   "execution_count": 26,
   "id": "213b0d9d-8065-4a55-8a6a-537e0239f63d",
   "metadata": {},
   "outputs": [
    {
     "data": {
      "image/png": "[encoded data removed]",
      "text/plain": [
       "<Figure size 432x288 with 1 Axes>"
      ]
     },
     "metadata": {
      "needs_background": "light"
     },
     "output_type": "display_data"
    }
   ],
   "source": [
    "# Area Under Curve - AUC\n",
    "import matplotlib.pyplot as plt\n",
    "from sklearn.metrics import roc_auc_score, roc_curve\n",
    "model_roc_auc = roc_auc_score(y_test, model.predict(X_test))\n",
    "\n",
    "fpr, tpr, thresholds = roc_curve(y_test, model.predict_proba(X_test)[:,1])\n",
    "plt.figure()\n",
    "plt.plot(fpr, tpr, label='AUC (area = %0.2f)' % model_roc_auc)\n",
    "plt.plot([0, 1], [0, 1], 'r--')\n",
    "plt.xlim(([0.0, 1.0]))\n",
    "plt.ylim(([0.0, 1.05]))\n",
    "plt.xlabel('False Positive Rate')\n",
    "plt.ylabel('True Positive Rate')\n",
    "plt.title('ROC')\n",
    "plt.legend()\n",
    "plt.show()"
   ]
  },
  {
   "cell_type": "markdown",
   "id": "44cd3df8-4665-48f6-b830-5f4dab7af623",
   "metadata": {},
   "source": [
    "¿Se puede enmendar el modelo?\n",
    "\n",
    "¿qué puede haber pasado?\n",
    "\n",
    "Como dice la metodología CRISP-DM, debemos ir hacia atrás\n",
    "\n",
    "Veamos cómo anda la clase target, que fue un paso que no hicimos antes"
   ]
  },
  {
   "cell_type": "code",
   "execution_count": 27,
   "id": "7b7ab5ae-e41b-4354-84a5-621f1f3e13b3",
   "metadata": {},
   "outputs": [
    {
     "name": "stderr",
     "output_type": "stream",
     "text": [
      "C:\\Users\\aleph\\anaconda3\\lib\\site-packages\\seaborn\\_decorators.py:36: FutureWarning: Pass the following variable as a keyword arg: x. From version 0.12, the only valid positional argument will be `data`, and passing other arguments without an explicit keyword will result in an error or misinterpretation.\n",
      "  warnings.warn(\n"
     ]
    },
    {
     "data": {
      "text/plain": [
       "<AxesSubplot:xlabel='TenYearCHD', ylabel='count'>"
      ]
     },
     "execution_count": 27,
     "metadata": {},
     "output_type": "execute_result"
    },
    {
     "data": {
      "image/png": "[encoded data removed]",
      "text/plain": [
       "<Figure size 432x288 with 1 Axes>"
      ]
     },
     "metadata": {
      "needs_background": "light"
     },
     "output_type": "display_data"
    }
   ],
   "source": [
    "import seaborn as sns\n",
    "sns.countplot(df.TenYearCHD)"
   ]
  },
  {
   "cell_type": "markdown",
   "id": "5c4113b8-1e06-45e8-b062-97b60d1d2abb",
   "metadata": {},
   "source": [
    "Estamos frente a **datos desbalanceados**, y esto se podría haber pensando desde la comprensión del problema. La enfermedad coronaria es algo raro, no masivo, afortundamente, por lo tanto, es de esperar que se tengan datos desbalanceados en cualquier muestra. Si esto pasa, es porque el modelo está reconociendo más las clase \"0\" y muy poco la clase \"1\". Esto ya lo podemos sospechar desde los valores de la precisión y la sensibilidad.\n",
    "\n",
    "Existen diversas técnica de balanceo de clases. Una de ellas es SMOTE, que lo que hace -coloquialmente hablando- es simular más datos de la clase desfavorecida cosa de balancear el problema."
   ]
  },
  {
   "cell_type": "code",
   "execution_count": 28,
   "id": "ec84c907-f4d7-4e20-b84a-0cc67e387f35",
   "metadata": {},
   "outputs": [
    {
     "name": "stdout",
     "output_type": "stream",
     "text": [
      "Requirement already satisfied: imblearn in c:\\users\\aleph\\anaconda3\\lib\\site-packages (0.0)\n",
      "Requirement already satisfied: imbalanced-learn in c:\\users\\aleph\\anaconda3\\lib\\site-packages (from imblearn) (0.11.0)\n",
      "Requirement already satisfied: scipy>=1.5.0 in c:\\users\\aleph\\anaconda3\\lib\\site-packages (from imbalanced-learn->imblearn) (1.7.1)\n",
      "Requirement already satisfied: scikit-learn>=1.0.2 in c:\\users\\aleph\\anaconda3\\lib\\site-packages (from imbalanced-learn->imblearn) (1.3.0)\n",
      "Requirement already satisfied: joblib>=1.1.1 in c:\\users\\aleph\\anaconda3\\lib\\site-packages (from imbalanced-learn->imblearn) (1.3.1)\n",
      "Requirement already satisfied: threadpoolctl>=2.0.0 in c:\\users\\aleph\\anaconda3\\lib\\site-packages (from imbalanced-learn->imblearn) (2.2.0)\n",
      "Requirement already satisfied: numpy>=1.17.3 in c:\\users\\aleph\\anaconda3\\lib\\site-packages (from imbalanced-learn->imblearn) (1.22.4)\n"
     ]
    }
   ],
   "source": [
    "!pip install imblearn"
   ]
  },
  {
   "cell_type": "code",
   "execution_count": 29,
   "id": "28b69170-0162-4987-aea8-b2a57e95b257",
   "metadata": {},
   "outputs": [],
   "source": [
    "from imblearn.over_sampling import SMOTE\n",
    "\n",
    "\n",
    "sm = SMOTE(random_state = 2)\n",
    "X_train_res, y_train_res = sm.fit_resample(X_train, y_train.ravel())\n",
    "\n",
    "clf = LogisticRegression()\n",
    "model_res = clf.fit(X_train_res, y_train_res)"
   ]
  },
  {
   "cell_type": "code",
   "execution_count": 30,
   "id": "9620b5e8-f8c1-4514-b251-c31e840f918c",
   "metadata": {},
   "outputs": [
    {
     "data": {
      "image/png": "[encoded data removed]",
      "text/plain": [
       "<Figure size 432x288 with 1 Axes>"
      ]
     },
     "metadata": {
      "needs_background": "light"
     },
     "output_type": "display_data"
    }
   ],
   "source": [
    "import matplotlib.pyplot as plt\n",
    "from sklearn.metrics import roc_auc_score, roc_curve\n",
    "model_roc_auc = roc_auc_score(y_test, model_res.predict(X_test))\n",
    "\n",
    "fpr, tpr, thresholds = roc_curve(y_test, model_res.predict_proba(X_test)[:,1])\n",
    "plt.figure()\n",
    "plt.plot(fpr, tpr, label='AUC (area = %0.2f)' % model_roc_auc)\n",
    "plt.plot([0, 1], [0, 1], 'r--')\n",
    "plt.xlim(([0.0, 1.0]))\n",
    "plt.ylim(([0.0, 1.05]))\n",
    "plt.xlabel('False Positive Rate')\n",
    "plt.ylabel('True Positive Rate')\n",
    "plt.title('ROC')\n",
    "plt.legend()\n",
    "plt.show()"
   ]
  },
  {
   "cell_type": "markdown",
   "id": "08f8a5ab-41a4-492f-8bb7-b5f4cd966312",
   "metadata": {},
   "source": [
    "**Ejercicios**\n",
    "\n",
    "- Verificar que los datos bajo SMOTE están balanceados\n",
    "- Calcular matriz de confusión, y medidas de evaluación del nuevo modelo balanceado\n",
    "- Ver si con otra selección de variables este modelo mejora su evaluación\n",
    "- Verificar si con validación cruzada, el AUC mejora\n"
   ]
  },
  {
   "cell_type": "code",
   "execution_count": 31,
   "id": "32c85d98-5f04-4383-891b-f1c6e5fd75c2",
   "metadata": {},
   "outputs": [
    {
     "data": {
      "text/html": [
       "<div>\n",
       "<style scoped>\n",
       "    .dataframe tbody tr th:only-of-type {\n",
       "        vertical-align: middle;\n",
       "    }\n",
       "\n",
       "    .dataframe tbody tr th {\n",
       "        vertical-align: top;\n",
       "    }\n",
       "\n",
       "    .dataframe thead th {\n",
       "        text-align: right;\n",
       "    }\n",
       "</style>\n",
       "<table border=\"1\" class=\"dataframe\">\n",
       "  <thead>\n",
       "    <tr style=\"text-align: right;\">\n",
       "      <th></th>\n",
       "      <th>age</th>\n",
       "      <th>cigsPerDay</th>\n",
       "      <th>totChol</th>\n",
       "      <th>sysBP</th>\n",
       "      <th>BMI</th>\n",
       "      <th>heartRate</th>\n",
       "      <th>male</th>\n",
       "      <th>educ_2</th>\n",
       "      <th>educ_3</th>\n",
       "      <th>educ_4</th>\n",
       "      <th>prev_BPMeds</th>\n",
       "      <th>prev_stroke</th>\n",
       "      <th>prev_hyp</th>\n",
       "      <th>prev_diabetes</th>\n",
       "    </tr>\n",
       "  </thead>\n",
       "  <tbody>\n",
       "    <tr>\n",
       "      <th>0</th>\n",
       "      <td>15.742856</td>\n",
       "      <td>5.788585</td>\n",
       "      <td>2.712919</td>\n",
       "      <td>16.794556</td>\n",
       "      <td>1.625658</td>\n",
       "      <td>0.549581</td>\n",
       "      <td>1.627725</td>\n",
       "      <td>0.891811</td>\n",
       "      <td>0.832683</td>\n",
       "      <td>0.763708</td>\n",
       "      <td>1.694274</td>\n",
       "      <td>1.579326</td>\n",
       "      <td>1.118656</td>\n",
       "      <td>2.111061</td>\n",
       "    </tr>\n",
       "  </tbody>\n",
       "</table>\n",
       "</div>"
      ],
      "text/plain": [
       "         age  cigsPerDay   totChol      sysBP       BMI  heartRate      male  \\\n",
       "0  15.742856    5.788585  2.712919  16.794556  1.625658   0.549581  1.627725   \n",
       "\n",
       "     educ_2    educ_3    educ_4  prev_BPMeds  prev_stroke  prev_hyp  \\\n",
       "0  0.891811  0.832683  0.763708     1.694274     1.579326  1.118656   \n",
       "\n",
       "   prev_diabetes  \n",
       "0       2.111061  "
      ]
     },
     "execution_count": 31,
     "metadata": {},
     "output_type": "execute_result"
    }
   ],
   "source": [
    "# re-interpretando\n",
    "\n",
    "pd.DataFrame(np.exp(model_res.coef_), columns =X.columns )"
   ]
  },
  {
   "cell_type": "code",
   "execution_count": 32,
   "id": "4e027065-c342-4fb2-a48f-29c5d53654bf",
   "metadata": {},
   "outputs": [
    {
     "data": {
      "text/plain": [
       "'C:\\\\Users\\\\aleph\\\\OneDrive\\\\Escritorio\\\\UDLA Mg DS'"
      ]
     },
     "execution_count": 32,
     "metadata": {},
     "output_type": "execute_result"
    }
   ],
   "source": [
    "import os\n",
    "os.getcwd()"
   ]
  }
 ],
 "metadata": {
  "kernelspec": {
   "display_name": "Python 3 (ipykernel)",
   "language": "python",
   "name": "python3"
  },
  "language_info": {
   "codemirror_mode": {
    "name": "ipython",
    "version": 3
   },
   "file_extension": ".py",
   "mimetype": "text/x-python",
   "name": "python",
   "nbconvert_exporter": "python",
   "pygments_lexer": "ipython3",
   "version": "3.9.7"
  }
 },
 "nbformat": 4,
 "nbformat_minor": 5
}
